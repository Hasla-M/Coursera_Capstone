{
 "cells": [
  {
   "cell_type": "markdown",
   "metadata": {},
   "source": [
    "# Road Accident Severity Prediction- Capston project"
   ]
  },
  {
   "cell_type": "markdown",
   "metadata": {},
   "source": [
    "## Applied Data Science Capstone by IBM/Coursera"
   ]
  },
  {
   "cell_type": "markdown",
   "metadata": {},
   "source": [
    "### INTRODUCTION: Business Problem"
   ]
  },
  {
   "cell_type": "markdown",
   "metadata": {},
   "source": [
    "One of the important safety challenge in the modern world is to prevent or reduce road accidents. Although road accidents have become a common issue, the time has exceeded to take more steps toward reducing the number of accidents, or atleast reduce the severity of it. So the main point here is to analyse and find the main cause of these accidents. If it is found, the upcoming accidents or the severity of an accident can be predicted and there by giving some warning messages or alerts, the number of accidents/fatalities can be reduced. For example, if it is a heavy rainy day, there can be a possibility of vehicles to skid from the certain surface (road), or the condition of some roads may be very poor. So there by creating a warning to take diversion or not to pass through a particular way, may reduce a chance of an accident. It will be helpful if we can predict possiblity of an accident, also the severity of the accidents. initially we need to discover the causes of why these accident has occured, so that we can generate warning to the public for taking particular precautions.\n",
    "\n",
    "This work will be helpful to the public of Seattle, especially, for the one who drives a vehicle. This system will alert the drivers about the possibility of an accident by predicitng a severity condition based on the some features like weather condition, condition of the road,  lighting condition etc."
   ]
  },
  {
   "cell_type": "markdown",
   "metadata": {},
   "source": [
    "### DATA"
   ]
  },
  {
   "cell_type": "markdown",
   "metadata": {},
   "source": [
    "In order to predict an accident severity, we need to have knowledge about the previous accidents in that place. Then only we can figure out the causes or reason behind it , and predict based on that causes, so that everyone can that precautions if the case is matched.\n",
    "The dataset used here includes all types of collisions in Seattle from 2004 onwards, by SDOT Traffic Management Division, Traffic Records Group, Seattle. The dataset is available here [Click here](https://s3.us.cloud-object-storage.appdomain.cloud/cf-courses-data/CognitiveClass/DP0701EN/version-2/Data-Collisions.csv)\n",
    "They also provide a metadata file, which contain information about each attributes in this dataset. The dataset contain 40 attributes like SEVERITY_CODE (code that corresponds to the severity of the collision), JUNCTION_TYPE, ROAD_COND(condition of the road, where collision happened), FATALITIES, INJURED etc.\n",
    "\n",
    "As our aim is to predict the severity of accidents, our Target variable will be SEVERITY_CODE. We'll examine the relationship between the target variable and all other attribute, through correlation analysis, plotting etc. This will help in selecting the better attributes, which can give a better prediction.\n",
    "\n"
   ]
  },
  {
   "cell_type": "code",
   "execution_count": 40,
   "metadata": {},
   "outputs": [],
   "source": [
    "#Import pandas and numpy\n",
    "\n",
    "import pandas as pd\n",
    "import numpy as np"
   ]
  },
  {
   "cell_type": "code",
   "execution_count": 41,
   "metadata": {},
   "outputs": [
    {
     "data": {
      "text/html": [
       "<div>\n",
       "<style scoped>\n",
       "    .dataframe tbody tr th:only-of-type {\n",
       "        vertical-align: middle;\n",
       "    }\n",
       "\n",
       "    .dataframe tbody tr th {\n",
       "        vertical-align: top;\n",
       "    }\n",
       "\n",
       "    .dataframe thead th {\n",
       "        text-align: right;\n",
       "    }\n",
       "</style>\n",
       "<table border=\"1\" class=\"dataframe\">\n",
       "  <thead>\n",
       "    <tr style=\"text-align: right;\">\n",
       "      <th></th>\n",
       "      <th>X</th>\n",
       "      <th>Y</th>\n",
       "      <th>OBJECTID</th>\n",
       "      <th>INCKEY</th>\n",
       "      <th>COLDETKEY</th>\n",
       "      <th>REPORTNO</th>\n",
       "      <th>STATUS</th>\n",
       "      <th>ADDRTYPE</th>\n",
       "      <th>INTKEY</th>\n",
       "      <th>LOCATION</th>\n",
       "      <th>...</th>\n",
       "      <th>ROADCOND</th>\n",
       "      <th>LIGHTCOND</th>\n",
       "      <th>PEDROWNOTGRNT</th>\n",
       "      <th>SDOTCOLNUM</th>\n",
       "      <th>SPEEDING</th>\n",
       "      <th>ST_COLCODE</th>\n",
       "      <th>ST_COLDESC</th>\n",
       "      <th>SEGLANEKEY</th>\n",
       "      <th>CROSSWALKKEY</th>\n",
       "      <th>HITPARKEDCAR</th>\n",
       "    </tr>\n",
       "  </thead>\n",
       "  <tbody>\n",
       "    <tr>\n",
       "      <th>0</th>\n",
       "      <td>-122.386772</td>\n",
       "      <td>47.564720</td>\n",
       "      <td>1</td>\n",
       "      <td>326234</td>\n",
       "      <td>327734</td>\n",
       "      <td>E984735</td>\n",
       "      <td>Matched</td>\n",
       "      <td>Intersection</td>\n",
       "      <td>31893.0</td>\n",
       "      <td>CALIFORNIA AVE SW AND SW GENESEE ST</td>\n",
       "      <td>...</td>\n",
       "      <td>Dry</td>\n",
       "      <td>Daylight</td>\n",
       "      <td>Y</td>\n",
       "      <td>NaN</td>\n",
       "      <td>NaN</td>\n",
       "      <td>2</td>\n",
       "      <td>Vehicle turning left hits pedestrian</td>\n",
       "      <td>0</td>\n",
       "      <td>0</td>\n",
       "      <td>N</td>\n",
       "    </tr>\n",
       "    <tr>\n",
       "      <th>1</th>\n",
       "      <td>-122.341806</td>\n",
       "      <td>47.686934</td>\n",
       "      <td>2</td>\n",
       "      <td>326246</td>\n",
       "      <td>327746</td>\n",
       "      <td>E985430</td>\n",
       "      <td>Matched</td>\n",
       "      <td>Intersection</td>\n",
       "      <td>24228.0</td>\n",
       "      <td>STONE AVE N AND N 80TH ST</td>\n",
       "      <td>...</td>\n",
       "      <td>Wet</td>\n",
       "      <td>Dark - Street Lights On</td>\n",
       "      <td>NaN</td>\n",
       "      <td>NaN</td>\n",
       "      <td>NaN</td>\n",
       "      <td>10</td>\n",
       "      <td>Entering at angle</td>\n",
       "      <td>0</td>\n",
       "      <td>0</td>\n",
       "      <td>N</td>\n",
       "    </tr>\n",
       "    <tr>\n",
       "      <th>2</th>\n",
       "      <td>-122.374899</td>\n",
       "      <td>47.668666</td>\n",
       "      <td>3</td>\n",
       "      <td>329254</td>\n",
       "      <td>330754</td>\n",
       "      <td>EA16720</td>\n",
       "      <td>Matched</td>\n",
       "      <td>Block</td>\n",
       "      <td>NaN</td>\n",
       "      <td>NW MARKET ST BETWEEN 14TH AVE NW AND 15TH AVE NW</td>\n",
       "      <td>...</td>\n",
       "      <td>Dry</td>\n",
       "      <td>Daylight</td>\n",
       "      <td>NaN</td>\n",
       "      <td>NaN</td>\n",
       "      <td>NaN</td>\n",
       "      <td>11</td>\n",
       "      <td>From same direction - both going straight - bo...</td>\n",
       "      <td>0</td>\n",
       "      <td>0</td>\n",
       "      <td>N</td>\n",
       "    </tr>\n",
       "    <tr>\n",
       "      <th>3</th>\n",
       "      <td>-122.300758</td>\n",
       "      <td>47.683047</td>\n",
       "      <td>4</td>\n",
       "      <td>21200</td>\n",
       "      <td>21200</td>\n",
       "      <td>1227970</td>\n",
       "      <td>Matched</td>\n",
       "      <td>Intersection</td>\n",
       "      <td>24661.0</td>\n",
       "      <td>25TH AVE NE AND NE 75TH ST</td>\n",
       "      <td>...</td>\n",
       "      <td>Wet</td>\n",
       "      <td>Dark - Street Lights On</td>\n",
       "      <td>NaN</td>\n",
       "      <td>4160038.0</td>\n",
       "      <td>NaN</td>\n",
       "      <td>28</td>\n",
       "      <td>From opposite direction - one left turn - one ...</td>\n",
       "      <td>0</td>\n",
       "      <td>0</td>\n",
       "      <td>N</td>\n",
       "    </tr>\n",
       "    <tr>\n",
       "      <th>4</th>\n",
       "      <td>-122.313053</td>\n",
       "      <td>47.567241</td>\n",
       "      <td>5</td>\n",
       "      <td>17000</td>\n",
       "      <td>17000</td>\n",
       "      <td>1793348</td>\n",
       "      <td>Unmatched</td>\n",
       "      <td>Block</td>\n",
       "      <td>NaN</td>\n",
       "      <td>S DAKOTA ST BETWEEN 15TH AVE S AND 16TH AVE S</td>\n",
       "      <td>...</td>\n",
       "      <td>NaN</td>\n",
       "      <td>NaN</td>\n",
       "      <td>NaN</td>\n",
       "      <td>4289025.0</td>\n",
       "      <td>NaN</td>\n",
       "      <td>NaN</td>\n",
       "      <td>NaN</td>\n",
       "      <td>0</td>\n",
       "      <td>0</td>\n",
       "      <td>N</td>\n",
       "    </tr>\n",
       "  </tbody>\n",
       "</table>\n",
       "<p>5 rows × 40 columns</p>\n",
       "</div>"
      ],
      "text/plain": [
       "            X          Y  OBJECTID  INCKEY  COLDETKEY REPORTNO     STATUS  \\\n",
       "0 -122.386772  47.564720         1  326234     327734  E984735    Matched   \n",
       "1 -122.341806  47.686934         2  326246     327746  E985430    Matched   \n",
       "2 -122.374899  47.668666         3  329254     330754  EA16720    Matched   \n",
       "3 -122.300758  47.683047         4   21200      21200  1227970    Matched   \n",
       "4 -122.313053  47.567241         5   17000      17000  1793348  Unmatched   \n",
       "\n",
       "       ADDRTYPE   INTKEY                                          LOCATION  \\\n",
       "0  Intersection  31893.0               CALIFORNIA AVE SW AND SW GENESEE ST   \n",
       "1  Intersection  24228.0                         STONE AVE N AND N 80TH ST   \n",
       "2         Block      NaN  NW MARKET ST BETWEEN 14TH AVE NW AND 15TH AVE NW   \n",
       "3  Intersection  24661.0                        25TH AVE NE AND NE 75TH ST   \n",
       "4         Block      NaN     S DAKOTA ST BETWEEN 15TH AVE S AND 16TH AVE S   \n",
       "\n",
       "   ... ROADCOND                LIGHTCOND PEDROWNOTGRNT SDOTCOLNUM SPEEDING  \\\n",
       "0  ...      Dry                 Daylight             Y        NaN      NaN   \n",
       "1  ...      Wet  Dark - Street Lights On           NaN        NaN      NaN   \n",
       "2  ...      Dry                 Daylight           NaN        NaN      NaN   \n",
       "3  ...      Wet  Dark - Street Lights On           NaN  4160038.0      NaN   \n",
       "4  ...      NaN                      NaN           NaN  4289025.0      NaN   \n",
       "\n",
       "   ST_COLCODE                                         ST_COLDESC  SEGLANEKEY  \\\n",
       "0           2               Vehicle turning left hits pedestrian           0   \n",
       "1          10                                  Entering at angle           0   \n",
       "2          11  From same direction - both going straight - bo...           0   \n",
       "3          28  From opposite direction - one left turn - one ...           0   \n",
       "4         NaN                                                NaN           0   \n",
       "\n",
       "   CROSSWALKKEY  HITPARKEDCAR  \n",
       "0             0             N  \n",
       "1             0             N  \n",
       "2             0             N  \n",
       "3             0             N  \n",
       "4             0             N  \n",
       "\n",
       "[5 rows x 40 columns]"
      ]
     },
     "execution_count": 41,
     "metadata": {},
     "output_type": "execute_result"
    }
   ],
   "source": [
    "#import dataset to a dataframe\n",
    "df=pd.read_csv('Collisions.csv')\n",
    "df.head()"
   ]
  },
  {
   "cell_type": "code",
   "execution_count": 3,
   "metadata": {},
   "outputs": [
    {
     "data": {
      "text/html": [
       "<div>\n",
       "<style scoped>\n",
       "    .dataframe tbody tr th:only-of-type {\n",
       "        vertical-align: middle;\n",
       "    }\n",
       "\n",
       "    .dataframe tbody tr th {\n",
       "        vertical-align: top;\n",
       "    }\n",
       "\n",
       "    .dataframe thead th {\n",
       "        text-align: right;\n",
       "    }\n",
       "</style>\n",
       "<table border=\"1\" class=\"dataframe\">\n",
       "  <thead>\n",
       "    <tr style=\"text-align: right;\">\n",
       "      <th></th>\n",
       "      <th>X</th>\n",
       "      <th>Y</th>\n",
       "      <th>OBJECTID</th>\n",
       "      <th>INCKEY</th>\n",
       "      <th>COLDETKEY</th>\n",
       "      <th>INTKEY</th>\n",
       "      <th>PERSONCOUNT</th>\n",
       "      <th>PEDCOUNT</th>\n",
       "      <th>PEDCYLCOUNT</th>\n",
       "      <th>VEHCOUNT</th>\n",
       "      <th>INJURIES</th>\n",
       "      <th>SERIOUSINJURIES</th>\n",
       "      <th>FATALITIES</th>\n",
       "      <th>SDOT_COLCODE</th>\n",
       "      <th>SDOTCOLNUM</th>\n",
       "      <th>SEGLANEKEY</th>\n",
       "      <th>CROSSWALKKEY</th>\n",
       "    </tr>\n",
       "  </thead>\n",
       "  <tbody>\n",
       "    <tr>\n",
       "      <th>count</th>\n",
       "      <td>213797.000000</td>\n",
       "      <td>213797.000000</td>\n",
       "      <td>221266.000000</td>\n",
       "      <td>221266.000000</td>\n",
       "      <td>221266.000000</td>\n",
       "      <td>71823.000000</td>\n",
       "      <td>221266.000000</td>\n",
       "      <td>221266.000000</td>\n",
       "      <td>221266.000000</td>\n",
       "      <td>221266.000000</td>\n",
       "      <td>221266.000000</td>\n",
       "      <td>221266.000000</td>\n",
       "      <td>221266.000000</td>\n",
       "      <td>221265.000000</td>\n",
       "      <td>1.272050e+05</td>\n",
       "      <td>221266.000000</td>\n",
       "      <td>2.212660e+05</td>\n",
       "    </tr>\n",
       "    <tr>\n",
       "      <th>mean</th>\n",
       "      <td>-122.330752</td>\n",
       "      <td>47.620205</td>\n",
       "      <td>110633.500000</td>\n",
       "      <td>144603.603179</td>\n",
       "      <td>144831.128840</td>\n",
       "      <td>37616.272768</td>\n",
       "      <td>2.226230</td>\n",
       "      <td>0.038103</td>\n",
       "      <td>0.027293</td>\n",
       "      <td>1.728544</td>\n",
       "      <td>0.373844</td>\n",
       "      <td>0.015149</td>\n",
       "      <td>0.001681</td>\n",
       "      <td>13.383558</td>\n",
       "      <td>7.971063e+06</td>\n",
       "      <td>261.441573</td>\n",
       "      <td>9.588454e+03</td>\n",
       "    </tr>\n",
       "    <tr>\n",
       "      <th>std</th>\n",
       "      <td>0.030054</td>\n",
       "      <td>0.056040</td>\n",
       "      <td>63874.136669</td>\n",
       "      <td>89039.925169</td>\n",
       "      <td>89413.579421</td>\n",
       "      <td>51905.450406</td>\n",
       "      <td>1.470364</td>\n",
       "      <td>0.201745</td>\n",
       "      <td>0.164345</td>\n",
       "      <td>0.831224</td>\n",
       "      <td>0.732086</td>\n",
       "      <td>0.157908</td>\n",
       "      <td>0.044562</td>\n",
       "      <td>7.302961</td>\n",
       "      <td>2.611523e+06</td>\n",
       "      <td>3248.850406</td>\n",
       "      <td>7.150262e+04</td>\n",
       "    </tr>\n",
       "    <tr>\n",
       "      <th>min</th>\n",
       "      <td>-122.419091</td>\n",
       "      <td>47.495573</td>\n",
       "      <td>1.000000</td>\n",
       "      <td>1001.000000</td>\n",
       "      <td>1001.000000</td>\n",
       "      <td>23807.000000</td>\n",
       "      <td>0.000000</td>\n",
       "      <td>0.000000</td>\n",
       "      <td>0.000000</td>\n",
       "      <td>0.000000</td>\n",
       "      <td>0.000000</td>\n",
       "      <td>0.000000</td>\n",
       "      <td>0.000000</td>\n",
       "      <td>0.000000</td>\n",
       "      <td>1.007024e+06</td>\n",
       "      <td>0.000000</td>\n",
       "      <td>0.000000e+00</td>\n",
       "    </tr>\n",
       "    <tr>\n",
       "      <th>25%</th>\n",
       "      <td>-122.349280</td>\n",
       "      <td>47.577302</td>\n",
       "      <td>55317.250000</td>\n",
       "      <td>71603.250000</td>\n",
       "      <td>71603.250000</td>\n",
       "      <td>28653.000000</td>\n",
       "      <td>2.000000</td>\n",
       "      <td>0.000000</td>\n",
       "      <td>0.000000</td>\n",
       "      <td>2.000000</td>\n",
       "      <td>0.000000</td>\n",
       "      <td>0.000000</td>\n",
       "      <td>0.000000</td>\n",
       "      <td>11.000000</td>\n",
       "      <td>6.007029e+06</td>\n",
       "      <td>0.000000</td>\n",
       "      <td>0.000000e+00</td>\n",
       "    </tr>\n",
       "    <tr>\n",
       "      <th>50%</th>\n",
       "      <td>-122.330348</td>\n",
       "      <td>47.616053</td>\n",
       "      <td>110633.500000</td>\n",
       "      <td>127122.500000</td>\n",
       "      <td>127122.500000</td>\n",
       "      <td>29973.000000</td>\n",
       "      <td>2.000000</td>\n",
       "      <td>0.000000</td>\n",
       "      <td>0.000000</td>\n",
       "      <td>2.000000</td>\n",
       "      <td>0.000000</td>\n",
       "      <td>0.000000</td>\n",
       "      <td>0.000000</td>\n",
       "      <td>11.000000</td>\n",
       "      <td>8.033011e+06</td>\n",
       "      <td>0.000000</td>\n",
       "      <td>0.000000e+00</td>\n",
       "    </tr>\n",
       "    <tr>\n",
       "      <th>75%</th>\n",
       "      <td>-122.311998</td>\n",
       "      <td>47.664290</td>\n",
       "      <td>165949.750000</td>\n",
       "      <td>209654.750000</td>\n",
       "      <td>209874.750000</td>\n",
       "      <td>33984.000000</td>\n",
       "      <td>3.000000</td>\n",
       "      <td>0.000000</td>\n",
       "      <td>0.000000</td>\n",
       "      <td>2.000000</td>\n",
       "      <td>1.000000</td>\n",
       "      <td>0.000000</td>\n",
       "      <td>0.000000</td>\n",
       "      <td>14.000000</td>\n",
       "      <td>1.018101e+07</td>\n",
       "      <td>0.000000</td>\n",
       "      <td>0.000000e+00</td>\n",
       "    </tr>\n",
       "    <tr>\n",
       "      <th>max</th>\n",
       "      <td>-122.238949</td>\n",
       "      <td>47.734142</td>\n",
       "      <td>221266.000000</td>\n",
       "      <td>333683.000000</td>\n",
       "      <td>335183.000000</td>\n",
       "      <td>757580.000000</td>\n",
       "      <td>93.000000</td>\n",
       "      <td>6.000000</td>\n",
       "      <td>2.000000</td>\n",
       "      <td>15.000000</td>\n",
       "      <td>78.000000</td>\n",
       "      <td>41.000000</td>\n",
       "      <td>5.000000</td>\n",
       "      <td>87.000000</td>\n",
       "      <td>1.307202e+07</td>\n",
       "      <td>525241.000000</td>\n",
       "      <td>5.239700e+06</td>\n",
       "    </tr>\n",
       "  </tbody>\n",
       "</table>\n",
       "</div>"
      ],
      "text/plain": [
       "                   X              Y       OBJECTID         INCKEY  \\\n",
       "count  213797.000000  213797.000000  221266.000000  221266.000000   \n",
       "mean     -122.330752      47.620205  110633.500000  144603.603179   \n",
       "std         0.030054       0.056040   63874.136669   89039.925169   \n",
       "min      -122.419091      47.495573       1.000000    1001.000000   \n",
       "25%      -122.349280      47.577302   55317.250000   71603.250000   \n",
       "50%      -122.330348      47.616053  110633.500000  127122.500000   \n",
       "75%      -122.311998      47.664290  165949.750000  209654.750000   \n",
       "max      -122.238949      47.734142  221266.000000  333683.000000   \n",
       "\n",
       "           COLDETKEY         INTKEY    PERSONCOUNT       PEDCOUNT  \\\n",
       "count  221266.000000   71823.000000  221266.000000  221266.000000   \n",
       "mean   144831.128840   37616.272768       2.226230       0.038103   \n",
       "std     89413.579421   51905.450406       1.470364       0.201745   \n",
       "min      1001.000000   23807.000000       0.000000       0.000000   \n",
       "25%     71603.250000   28653.000000       2.000000       0.000000   \n",
       "50%    127122.500000   29973.000000       2.000000       0.000000   \n",
       "75%    209874.750000   33984.000000       3.000000       0.000000   \n",
       "max    335183.000000  757580.000000      93.000000       6.000000   \n",
       "\n",
       "         PEDCYLCOUNT       VEHCOUNT       INJURIES  SERIOUSINJURIES  \\\n",
       "count  221266.000000  221266.000000  221266.000000    221266.000000   \n",
       "mean        0.027293       1.728544       0.373844         0.015149   \n",
       "std         0.164345       0.831224       0.732086         0.157908   \n",
       "min         0.000000       0.000000       0.000000         0.000000   \n",
       "25%         0.000000       2.000000       0.000000         0.000000   \n",
       "50%         0.000000       2.000000       0.000000         0.000000   \n",
       "75%         0.000000       2.000000       1.000000         0.000000   \n",
       "max         2.000000      15.000000      78.000000        41.000000   \n",
       "\n",
       "          FATALITIES   SDOT_COLCODE    SDOTCOLNUM     SEGLANEKEY  CROSSWALKKEY  \n",
       "count  221266.000000  221265.000000  1.272050e+05  221266.000000  2.212660e+05  \n",
       "mean        0.001681      13.383558  7.971063e+06     261.441573  9.588454e+03  \n",
       "std         0.044562       7.302961  2.611523e+06    3248.850406  7.150262e+04  \n",
       "min         0.000000       0.000000  1.007024e+06       0.000000  0.000000e+00  \n",
       "25%         0.000000      11.000000  6.007029e+06       0.000000  0.000000e+00  \n",
       "50%         0.000000      11.000000  8.033011e+06       0.000000  0.000000e+00  \n",
       "75%         0.000000      14.000000  1.018101e+07       0.000000  0.000000e+00  \n",
       "max         5.000000      87.000000  1.307202e+07  525241.000000  5.239700e+06  "
      ]
     },
     "execution_count": 3,
     "metadata": {},
     "output_type": "execute_result"
    }
   ],
   "source": [
    "#finding statistical summary\n",
    "df.describe()"
   ]
  },
  {
   "cell_type": "code",
   "execution_count": 4,
   "metadata": {},
   "outputs": [
    {
     "data": {
      "text/plain": [
       "False    221265\n",
       "True          1\n",
       "Name: SEVERITYCODE, dtype: int64"
      ]
     },
     "execution_count": 4,
     "metadata": {},
     "output_type": "execute_result"
    }
   ],
   "source": [
    "#total number of missing values in column severitycode\n",
    "df['SEVERITYCODE'].isnull().value_counts()"
   ]
  },
  {
   "cell_type": "code",
   "execution_count": 5,
   "metadata": {},
   "outputs": [
    {
     "data": {
      "text/plain": [
       "1     137485\n",
       "2      58698\n",
       "0      21635\n",
       "2b      3098\n",
       "3        349\n",
       "Name: SEVERITYCODE, dtype: int64"
      ]
     },
     "execution_count": 5,
     "metadata": {},
     "output_type": "execute_result"
    }
   ],
   "source": [
    "df['SEVERITYCODE'].value_counts()"
   ]
  },
  {
   "cell_type": "markdown",
   "metadata": {},
   "source": [
    "Here we can see only two conditions. The possibility of accident and severity condition is represented as SEVERITYCODE is as follows:\n",
    " - 0  : Very less to zero probability of accident ( Clear)\n",
    " - 1 : Low probability (Property damage)\n",
    " - 2 : Mild probability (chance of getting injured )\n",
    " - 3 : High probability (Serious Injury)\n",
    " - 4 : Very high probability (Chance of fatality)"
   ]
  },
  {
   "cell_type": "markdown",
   "metadata": {},
   "source": [
    "### Data Preprocessing"
   ]
  },
  {
   "cell_type": "markdown",
   "metadata": {},
   "source": [
    "We can see a large number of attributes are in object format. We can visualize each and find if there is any relation with the target variable. Then preprocess it accordingly.\n",
    "WEATHER can be changed as\n",
    " - Clear : 0\n",
    " - Partly Cloudly : 1\n",
    " - Fog/Smog/Smoke : 2\n",
    " - Sleet/Hail/Freezing Rain : 3\n",
    " - Raining  : 4\n",
    " - Overcast  : 5\n",
    " - Snowing : 6\n",
    " - Severe Crosswind : 7\n",
    " - Blowing Sand/Dirt : 8\n",
    " - Other : 9\n",
    " - Unknown : 10\n",
    " - Blowing Snow : 11\n",
    " "
   ]
  },
  {
   "cell_type": "code",
   "execution_count": 42,
   "metadata": {},
   "outputs": [],
   "source": [
    "#encoding Weather with numerical values\n",
    "df['WEATHER'].replace(to_replace=['Clear','Partly Cloudy','Fog/Smog/Smoke','Sleet/Hail/Freezing Rain','Raining','Overcast','Snowing','Severe Crosswind','Blowing Sand/Dirt','Other','Unknown','Blowing Snow'], value=[0,1,2,3,4,5,6,7,8,9,10,11],inplace=True)\n",
    "\n"
   ]
  },
  {
   "cell_type": "code",
   "execution_count": 43,
   "metadata": {},
   "outputs": [
    {
     "data": {
      "text/plain": [
       "0.0     114361\n",
       "4.0      34021\n",
       "5.0      28508\n",
       "10.0     15131\n",
       "6.0        919\n",
       "9.0        853\n",
       "2.0        577\n",
       "3.0        116\n",
       "8.0         56\n",
       "7.0         26\n",
       "1.0          9\n",
       "11.0         1\n",
       "Name: WEATHER, dtype: int64"
      ]
     },
     "execution_count": 43,
     "metadata": {},
     "output_type": "execute_result"
    }
   ],
   "source": [
    "df['WEATHER'].value_counts()"
   ]
  },
  {
   "cell_type": "code",
   "execution_count": 5,
   "metadata": {
    "scrolled": true
   },
   "outputs": [
    {
     "data": {
      "text/plain": [
       "Mid-Block (not related to intersection)              101579\n",
       "At Intersection (intersection related)                69117\n",
       "Mid-Block (but intersection related)                  24402\n",
       "Driveway Junction                                     11495\n",
       "At Intersection (but not related to intersection)      2495\n",
       "Ramp Junction                                           190\n",
       "Unknown                                                  21\n",
       "Name: JUNCTIONTYPE, dtype: int64"
      ]
     },
     "execution_count": 5,
     "metadata": {},
     "output_type": "execute_result"
    }
   ],
   "source": [
    "df['JUNCTIONTYPE'].value_counts()"
   ]
  },
  {
   "cell_type": "markdown",
   "metadata": {},
   "source": [
    "##### Evaluating missing data"
   ]
  },
  {
   "cell_type": "code",
   "execution_count": 4,
   "metadata": {},
   "outputs": [
    {
     "data": {
      "text/html": [
       "<div>\n",
       "<style scoped>\n",
       "    .dataframe tbody tr th:only-of-type {\n",
       "        vertical-align: middle;\n",
       "    }\n",
       "\n",
       "    .dataframe tbody tr th {\n",
       "        vertical-align: top;\n",
       "    }\n",
       "\n",
       "    .dataframe thead th {\n",
       "        text-align: right;\n",
       "    }\n",
       "</style>\n",
       "<table border=\"1\" class=\"dataframe\">\n",
       "  <thead>\n",
       "    <tr style=\"text-align: right;\">\n",
       "      <th></th>\n",
       "      <th>X</th>\n",
       "      <th>Y</th>\n",
       "      <th>OBJECTID</th>\n",
       "      <th>INCKEY</th>\n",
       "      <th>COLDETKEY</th>\n",
       "      <th>REPORTNO</th>\n",
       "      <th>STATUS</th>\n",
       "      <th>ADDRTYPE</th>\n",
       "      <th>INTKEY</th>\n",
       "      <th>LOCATION</th>\n",
       "      <th>...</th>\n",
       "      <th>ROADCOND</th>\n",
       "      <th>LIGHTCOND</th>\n",
       "      <th>PEDROWNOTGRNT</th>\n",
       "      <th>SDOTCOLNUM</th>\n",
       "      <th>SPEEDING</th>\n",
       "      <th>ST_COLCODE</th>\n",
       "      <th>ST_COLDESC</th>\n",
       "      <th>SEGLANEKEY</th>\n",
       "      <th>CROSSWALKKEY</th>\n",
       "      <th>HITPARKEDCAR</th>\n",
       "    </tr>\n",
       "  </thead>\n",
       "  <tbody>\n",
       "    <tr>\n",
       "      <th>0</th>\n",
       "      <td>False</td>\n",
       "      <td>False</td>\n",
       "      <td>False</td>\n",
       "      <td>False</td>\n",
       "      <td>False</td>\n",
       "      <td>False</td>\n",
       "      <td>False</td>\n",
       "      <td>False</td>\n",
       "      <td>False</td>\n",
       "      <td>False</td>\n",
       "      <td>...</td>\n",
       "      <td>False</td>\n",
       "      <td>False</td>\n",
       "      <td>False</td>\n",
       "      <td>True</td>\n",
       "      <td>True</td>\n",
       "      <td>False</td>\n",
       "      <td>False</td>\n",
       "      <td>False</td>\n",
       "      <td>False</td>\n",
       "      <td>False</td>\n",
       "    </tr>\n",
       "    <tr>\n",
       "      <th>1</th>\n",
       "      <td>False</td>\n",
       "      <td>False</td>\n",
       "      <td>False</td>\n",
       "      <td>False</td>\n",
       "      <td>False</td>\n",
       "      <td>False</td>\n",
       "      <td>False</td>\n",
       "      <td>False</td>\n",
       "      <td>False</td>\n",
       "      <td>False</td>\n",
       "      <td>...</td>\n",
       "      <td>False</td>\n",
       "      <td>False</td>\n",
       "      <td>True</td>\n",
       "      <td>True</td>\n",
       "      <td>True</td>\n",
       "      <td>False</td>\n",
       "      <td>False</td>\n",
       "      <td>False</td>\n",
       "      <td>False</td>\n",
       "      <td>False</td>\n",
       "    </tr>\n",
       "    <tr>\n",
       "      <th>2</th>\n",
       "      <td>False</td>\n",
       "      <td>False</td>\n",
       "      <td>False</td>\n",
       "      <td>False</td>\n",
       "      <td>False</td>\n",
       "      <td>False</td>\n",
       "      <td>False</td>\n",
       "      <td>False</td>\n",
       "      <td>True</td>\n",
       "      <td>False</td>\n",
       "      <td>...</td>\n",
       "      <td>False</td>\n",
       "      <td>False</td>\n",
       "      <td>True</td>\n",
       "      <td>True</td>\n",
       "      <td>True</td>\n",
       "      <td>False</td>\n",
       "      <td>False</td>\n",
       "      <td>False</td>\n",
       "      <td>False</td>\n",
       "      <td>False</td>\n",
       "    </tr>\n",
       "    <tr>\n",
       "      <th>3</th>\n",
       "      <td>False</td>\n",
       "      <td>False</td>\n",
       "      <td>False</td>\n",
       "      <td>False</td>\n",
       "      <td>False</td>\n",
       "      <td>False</td>\n",
       "      <td>False</td>\n",
       "      <td>False</td>\n",
       "      <td>False</td>\n",
       "      <td>False</td>\n",
       "      <td>...</td>\n",
       "      <td>False</td>\n",
       "      <td>False</td>\n",
       "      <td>True</td>\n",
       "      <td>False</td>\n",
       "      <td>True</td>\n",
       "      <td>False</td>\n",
       "      <td>False</td>\n",
       "      <td>False</td>\n",
       "      <td>False</td>\n",
       "      <td>False</td>\n",
       "    </tr>\n",
       "    <tr>\n",
       "      <th>4</th>\n",
       "      <td>False</td>\n",
       "      <td>False</td>\n",
       "      <td>False</td>\n",
       "      <td>False</td>\n",
       "      <td>False</td>\n",
       "      <td>False</td>\n",
       "      <td>False</td>\n",
       "      <td>False</td>\n",
       "      <td>True</td>\n",
       "      <td>False</td>\n",
       "      <td>...</td>\n",
       "      <td>True</td>\n",
       "      <td>True</td>\n",
       "      <td>True</td>\n",
       "      <td>False</td>\n",
       "      <td>True</td>\n",
       "      <td>True</td>\n",
       "      <td>True</td>\n",
       "      <td>False</td>\n",
       "      <td>False</td>\n",
       "      <td>False</td>\n",
       "    </tr>\n",
       "  </tbody>\n",
       "</table>\n",
       "<p>5 rows × 40 columns</p>\n",
       "</div>"
      ],
      "text/plain": [
       "       X      Y  OBJECTID  INCKEY  COLDETKEY  REPORTNO  STATUS  ADDRTYPE  \\\n",
       "0  False  False     False   False      False     False   False     False   \n",
       "1  False  False     False   False      False     False   False     False   \n",
       "2  False  False     False   False      False     False   False     False   \n",
       "3  False  False     False   False      False     False   False     False   \n",
       "4  False  False     False   False      False     False   False     False   \n",
       "\n",
       "   INTKEY  LOCATION  ...  ROADCOND  LIGHTCOND  PEDROWNOTGRNT  SDOTCOLNUM  \\\n",
       "0   False     False  ...     False      False          False        True   \n",
       "1   False     False  ...     False      False           True        True   \n",
       "2    True     False  ...     False      False           True        True   \n",
       "3   False     False  ...     False      False           True       False   \n",
       "4    True     False  ...      True       True           True       False   \n",
       "\n",
       "   SPEEDING  ST_COLCODE  ST_COLDESC  SEGLANEKEY  CROSSWALKKEY  HITPARKEDCAR  \n",
       "0      True       False       False       False         False         False  \n",
       "1      True       False       False       False         False         False  \n",
       "2      True       False       False       False         False         False  \n",
       "3      True       False       False       False         False         False  \n",
       "4      True        True        True       False         False         False  \n",
       "\n",
       "[5 rows x 40 columns]"
      ]
     },
     "execution_count": 4,
     "metadata": {},
     "output_type": "execute_result"
    }
   ],
   "source": [
    "missing_data = df.isnull()\n",
    "missing_data.head()"
   ]
  },
  {
   "cell_type": "code",
   "execution_count": 5,
   "metadata": {},
   "outputs": [
    {
     "name": "stdout",
     "output_type": "stream",
     "text": [
      "X\n",
      "False    213797\n",
      "True       7469\n",
      "Name: X, dtype: int64\n",
      "\n",
      "Y\n",
      "False    213797\n",
      "True       7469\n",
      "Name: Y, dtype: int64\n",
      "\n",
      "OBJECTID\n",
      "False    221266\n",
      "Name: OBJECTID, dtype: int64\n",
      "\n",
      "INCKEY\n",
      "False    221266\n",
      "Name: INCKEY, dtype: int64\n",
      "\n",
      "COLDETKEY\n",
      "False    221266\n",
      "Name: COLDETKEY, dtype: int64\n",
      "\n",
      "REPORTNO\n",
      "False    221266\n",
      "Name: REPORTNO, dtype: int64\n",
      "\n",
      "STATUS\n",
      "False    221266\n",
      "Name: STATUS, dtype: int64\n",
      "\n",
      "ADDRTYPE\n",
      "False    217554\n",
      "True       3712\n",
      "Name: ADDRTYPE, dtype: int64\n",
      "\n",
      "INTKEY\n",
      "True     149443\n",
      "False     71823\n",
      "Name: INTKEY, dtype: int64\n",
      "\n",
      "LOCATION\n",
      "False    216680\n",
      "True       4586\n",
      "Name: LOCATION, dtype: int64\n",
      "\n",
      "EXCEPTRSNCODE\n",
      "True     120403\n",
      "False    100863\n",
      "Name: EXCEPTRSNCODE, dtype: int64\n",
      "\n",
      "EXCEPTRSNDESC\n",
      "True     209491\n",
      "False     11775\n",
      "Name: EXCEPTRSNDESC, dtype: int64\n",
      "\n",
      "SEVERITYCODE\n",
      "False    221265\n",
      "True          1\n",
      "Name: SEVERITYCODE, dtype: int64\n",
      "\n",
      "SEVERITYDESC\n",
      "False    221266\n",
      "Name: SEVERITYDESC, dtype: int64\n",
      "\n",
      "COLLISIONTYPE\n",
      "False    194767\n",
      "True      26499\n",
      "Name: COLLISIONTYPE, dtype: int64\n",
      "\n",
      "PERSONCOUNT\n",
      "False    221266\n",
      "Name: PERSONCOUNT, dtype: int64\n",
      "\n",
      "PEDCOUNT\n",
      "False    221266\n",
      "Name: PEDCOUNT, dtype: int64\n",
      "\n",
      "PEDCYLCOUNT\n",
      "False    221266\n",
      "Name: PEDCYLCOUNT, dtype: int64\n",
      "\n",
      "VEHCOUNT\n",
      "False    221266\n",
      "Name: VEHCOUNT, dtype: int64\n",
      "\n",
      "INJURIES\n",
      "False    221266\n",
      "Name: INJURIES, dtype: int64\n",
      "\n",
      "SERIOUSINJURIES\n",
      "False    221266\n",
      "Name: SERIOUSINJURIES, dtype: int64\n",
      "\n",
      "FATALITIES\n",
      "False    221266\n",
      "Name: FATALITIES, dtype: int64\n",
      "\n",
      "INCDATE\n",
      "False    221266\n",
      "Name: INCDATE, dtype: int64\n",
      "\n",
      "INCDTTM\n",
      "False    221266\n",
      "Name: INCDTTM, dtype: int64\n",
      "\n",
      "JUNCTIONTYPE\n",
      "False    209299\n",
      "True      11967\n",
      "Name: JUNCTIONTYPE, dtype: int64\n",
      "\n",
      "SDOT_COLCODE\n",
      "False    221265\n",
      "True          1\n",
      "Name: SDOT_COLCODE, dtype: int64\n",
      "\n",
      "SDOT_COLDESC\n",
      "False    221265\n",
      "True          1\n",
      "Name: SDOT_COLDESC, dtype: int64\n",
      "\n",
      "INATTENTIONIND\n",
      "True     191078\n",
      "False     30188\n",
      "Name: INATTENTIONIND, dtype: int64\n",
      "\n",
      "UNDERINFL\n",
      "False    194787\n",
      "True      26479\n",
      "Name: UNDERINFL, dtype: int64\n",
      "\n",
      "WEATHER\n",
      "False    194578\n",
      "True      26688\n",
      "Name: WEATHER, dtype: int64\n",
      "\n",
      "ROADCOND\n",
      "False    194658\n",
      "True      26608\n",
      "Name: ROADCOND, dtype: int64\n",
      "\n",
      "LIGHTCOND\n",
      "False    194490\n",
      "True      26776\n",
      "Name: LIGHTCOND, dtype: int64\n",
      "\n",
      "PEDROWNOTGRNT\n",
      "True     216078\n",
      "False      5188\n",
      "Name: PEDROWNOTGRNT, dtype: int64\n",
      "\n",
      "SDOTCOLNUM\n",
      "False    127205\n",
      "True      94061\n",
      "Name: SDOTCOLNUM, dtype: int64\n",
      "\n",
      "SPEEDING\n",
      "True     211353\n",
      "False      9913\n",
      "Name: SPEEDING, dtype: int64\n",
      "\n",
      "ST_COLCODE\n",
      "False    211853\n",
      "True       9413\n",
      "Name: ST_COLCODE, dtype: int64\n",
      "\n",
      "ST_COLDESC\n",
      "False    194767\n",
      "True      26499\n",
      "Name: ST_COLDESC, dtype: int64\n",
      "\n",
      "SEGLANEKEY\n",
      "False    221266\n",
      "Name: SEGLANEKEY, dtype: int64\n",
      "\n",
      "CROSSWALKKEY\n",
      "False    221266\n",
      "Name: CROSSWALKKEY, dtype: int64\n",
      "\n",
      "HITPARKEDCAR\n",
      "False    221266\n",
      "Name: HITPARKEDCAR, dtype: int64\n",
      "\n"
     ]
    }
   ],
   "source": [
    "for column in missing_data.columns.values.tolist():\n",
    "    print(column)\n",
    "    print (missing_data[column].value_counts())\n",
    "    print(\"\")   "
   ]
  },
  {
   "cell_type": "markdown",
   "metadata": {},
   "source": [
    " - drop the attribute with more missing data\n",
    " - replace missing data with mean for best attributes\n",
    " - drop the least important attributes."
   ]
  },
  {
   "cell_type": "code",
   "execution_count": 44,
   "metadata": {},
   "outputs": [],
   "source": [
    "df.drop(['X','Y','OBJECTID','INCKEY','COLDETKEY','REPORTNO','STATUS','INTKEY','LOCATION','EXCEPTRSNCODE','EXCEPTRSNDESC','SEVERITYDESC'] , axis=1, inplace=True)"
   ]
  },
  {
   "cell_type": "code",
   "execution_count": 45,
   "metadata": {},
   "outputs": [],
   "source": [
    "df.drop(['PERSONCOUNT','SPEEDING','PEDCOUNT','PEDCYLCOUNT','VEHCOUNT','INCDATE','INCDTTM','SDOT_COLDESC','INATTENTIONIND','PEDROWNOTGRNT','SDOTCOLNUM','ST_COLCODE','ST_COLDESC','HITPARKEDCAR'],axis=1,inplace=True)"
   ]
  },
  {
   "cell_type": "markdown",
   "metadata": {},
   "source": [
    " We need to change the type of certain attributes for further analysis. \n",
    "ADDRTYPE as follows:\n",
    " - Block : 0\n",
    " - Intersection : 1\n",
    " - Alley : 2\n",
    "    \n",
    "\n",
    "COLLISIONTYPE as follows : \n",
    " - Parked Car  : 0\n",
    " - Angles : 1\n",
    " - Rear Ended : 2\n",
    " - Other : 3\n",
    " - Sideswipe : 4\n",
    " - Left Turn : 5\n",
    " - Pedestrian : 6\n",
    " - Cycles : 7\n",
    " - Right Turn : 8\n",
    " - Head On : 9\n",
    "\n",
    "JUNCTIONTYPE as follows:\n",
    " - Mid-Block (not related to intersection) : 0\n",
    " - At Intersection (intersection related) : 1\n",
    " - Mid-Block (but intersection related) : 2\n",
    " - Driveway Junction  : 3\n",
    " - At Intersection (but not related to intersection) : 4\n",
    " - Ramp Junction : 5\n",
    " - Unknown : 6\n",
    " \n",
    "ROADCOND as follows:\n",
    " - Dry  : 0\n",
    " - Wet : 1\n",
    " - Unknown : 2\n",
    " - Ice : 3\n",
    " - Snow/Slush : 4\n",
    " - Other : 5\n",
    " - Standing Water : 6\n",
    " - Sand/Mud/Dirt : 7\n",
    " - Oil : 8\n",
    " \n",
    "LIGHTCOND as follows:\n",
    " - Daylight : 0\n",
    " - Dark Street Lights On : 1\n",
    " - Unknown : 2\n",
    " - Dusk : 3\n",
    " - Dawn : 4\n",
    " - Dark No Street Lights : 5\n",
    " - Dark Street Lights Off : 6\n",
    " - Other : 7\n",
    " - Dark Unknown Lighting :8\n"
   ]
  },
  {
   "cell_type": "code",
   "execution_count": 46,
   "metadata": {},
   "outputs": [
    {
     "data": {
      "text/plain": [
       "False    217554\n",
       "True       3712\n",
       "Name: ADDRTYPE, dtype: int64"
      ]
     },
     "execution_count": 46,
     "metadata": {},
     "output_type": "execute_result"
    }
   ],
   "source": [
    "df['ADDRTYPE'].replace(to_replace=['Block','Intersection','Alley'], value=[0,1,2],inplace=True)\n",
    "df['ADDRTYPE'].isnull().value_counts()"
   ]
  },
  {
   "cell_type": "code",
   "execution_count": 47,
   "metadata": {},
   "outputs": [
    {
     "data": {
      "text/plain": [
       "False    194767\n",
       "True      26499\n",
       "Name: COLLISIONTYPE, dtype: int64"
      ]
     },
     "execution_count": 47,
     "metadata": {},
     "output_type": "execute_result"
    }
   ],
   "source": [
    "df['COLLISIONTYPE'].replace(to_replace=['Parked Car','Angles','Rear Ended', 'Other', 'Sideswipe', 'Left Turn', 'Pedestrian', 'Cycles', 'Right Turn', 'Head On'], value=[0,1,2,3,4,5,6,7,8,9],inplace=True)\n",
    "df['COLLISIONTYPE'].isnull().value_counts()"
   ]
  },
  {
   "cell_type": "code",
   "execution_count": 48,
   "metadata": {},
   "outputs": [
    {
     "data": {
      "text/plain": [
       "False    209299\n",
       "True      11967\n",
       "Name: JUNCTIONTYPE, dtype: int64"
      ]
     },
     "execution_count": 48,
     "metadata": {},
     "output_type": "execute_result"
    }
   ],
   "source": [
    "df['JUNCTIONTYPE'].replace(to_replace=['Mid-Block (not related to intersection)','At Intersection (intersection related)', 'Mid-Block (but intersection related)', 'Driveway Junction', 'At Intersection (but not related to intersection)', 'Ramp Junction', 'Unknown'], value=[0,1,2,3,4,5,6],inplace=True)\n",
    "df['JUNCTIONTYPE'].isnull().value_counts()"
   ]
  },
  {
   "cell_type": "code",
   "execution_count": 49,
   "metadata": {},
   "outputs": [],
   "source": [
    "df['ROADCOND'].replace(to_replace=['Dry', 'Wet', 'Unknown', 'Ice', 'Snow/Slush', 'Other', 'Standing Water', 'Sand/Mud/Dirt', 'Oil'], value=[0,1,2,3,4,5,6,7,8],inplace=True)\n"
   ]
  },
  {
   "cell_type": "code",
   "execution_count": 50,
   "metadata": {},
   "outputs": [],
   "source": [
    "df['LIGHTCOND'].replace(to_replace=['Daylight', 'Dark - Street Lights On', 'Unknown', 'Dusk', 'Dawn', 'Dark - No Street Lights', 'Dark - Street Lights Off', 'Other', 'Dark - Unknown Lighting'], value=[0,1,2,3,4,5,6,7,8],inplace=True)\n"
   ]
  },
  {
   "cell_type": "code",
   "execution_count": 51,
   "metadata": {},
   "outputs": [],
   "source": [
    "#replace missing value with -1\n",
    "df.fillna(-1,inplace=True)"
   ]
  },
  {
   "cell_type": "code",
   "execution_count": 52,
   "metadata": {},
   "outputs": [],
   "source": [
    "df['ADDRTYPE'] = df['ADDRTYPE'].astype(int)\n",
    "df['ROADCOND'] = df['ROADCOND'].astype(int)\n",
    "df['JUNCTIONTYPE'] = df['JUNCTIONTYPE'].astype(int)\n",
    "df['COLLISIONTYPE'] = df['COLLISIONTYPE'].astype(int)\n",
    "df['LIGHTCOND'] = df['LIGHTCOND'].astype(int)"
   ]
  },
  {
   "cell_type": "code",
   "execution_count": 53,
   "metadata": {},
   "outputs": [],
   "source": [
    "df['WEATHER'] = df['WEATHER'].astype(int)"
   ]
  },
  {
   "cell_type": "code",
   "execution_count": 54,
   "metadata": {},
   "outputs": [],
   "source": [
    "df['SEVERITYCODE'].replace(to_replace=['0','1','2','2b','3'], value=[0,1,2,3,4],inplace=True)"
   ]
  },
  {
   "cell_type": "code",
   "execution_count": 55,
   "metadata": {},
   "outputs": [],
   "source": [
    "df['UNDERINFL'].replace(to_replace=['N','0','Y','1'], value=[0,0,1,1],inplace=True)"
   ]
  },
  {
   "cell_type": "code",
   "execution_count": 56,
   "metadata": {},
   "outputs": [
    {
     "data": {
      "text/plain": [
       "1    137486\n",
       "2     58698\n",
       "0     21635\n",
       "3      3098\n",
       "4       349\n",
       "Name: SEVERITYCODE, dtype: int64"
      ]
     },
     "execution_count": 56,
     "metadata": {},
     "output_type": "execute_result"
    }
   ],
   "source": [
    "df['SEVERITYCODE'].replace(-1,1,inplace=True)\n",
    "df['SEVERITYCODE'].value_counts()"
   ]
  },
  {
   "cell_type": "code",
   "execution_count": 57,
   "metadata": {},
   "outputs": [
    {
     "data": {
      "image/png": "[encoded data removed]",
      "text/plain": [
       "<Figure size 432x288 with 1 Axes>"
      ]
     },
     "metadata": {
      "needs_background": "light"
     },
     "output_type": "display_data"
    }
   ],
   "source": [
    "import matplotlib.pyplot as plt\n",
    "df['SEVERITYCODE'].value_counts().plot(kind='bar')\n",
    "plt.show()"
   ]
  },
  {
   "cell_type": "code",
   "execution_count": 37,
   "metadata": {},
   "outputs": [
    {
     "data": {
      "text/html": [
       "<div>\n",
       "<style scoped>\n",
       "    .dataframe tbody tr th:only-of-type {\n",
       "        vertical-align: middle;\n",
       "    }\n",
       "\n",
       "    .dataframe tbody tr th {\n",
       "        vertical-align: top;\n",
       "    }\n",
       "\n",
       "    .dataframe thead th {\n",
       "        text-align: right;\n",
       "    }\n",
       "</style>\n",
       "<table border=\"1\" class=\"dataframe\">\n",
       "  <thead>\n",
       "    <tr style=\"text-align: right;\">\n",
       "      <th></th>\n",
       "      <th>ADDRTYPE</th>\n",
       "      <th>SEVERITYCODE</th>\n",
       "      <th>COLLISIONTYPE</th>\n",
       "      <th>INJURIES</th>\n",
       "      <th>SERIOUSINJURIES</th>\n",
       "      <th>FATALITIES</th>\n",
       "      <th>JUNCTIONTYPE</th>\n",
       "      <th>SDOT_COLCODE</th>\n",
       "      <th>UNDERINFL</th>\n",
       "      <th>WEATHER</th>\n",
       "      <th>ROADCOND</th>\n",
       "      <th>LIGHTCOND</th>\n",
       "      <th>SEGLANEKEY</th>\n",
       "      <th>CROSSWALKKEY</th>\n",
       "    </tr>\n",
       "  </thead>\n",
       "  <tbody>\n",
       "    <tr>\n",
       "      <th>ADDRTYPE</th>\n",
       "      <td>1.000000</td>\n",
       "      <td>0.209163</td>\n",
       "      <td>0.231114</td>\n",
       "      <td>0.165353</td>\n",
       "      <td>0.034163</td>\n",
       "      <td>0.008504</td>\n",
       "      <td>0.295614</td>\n",
       "      <td>0.048061</td>\n",
       "      <td>0.077182</td>\n",
       "      <td>-0.065416</td>\n",
       "      <td>-0.025085</td>\n",
       "      <td>-0.010892</td>\n",
       "      <td>0.038785</td>\n",
       "      <td>0.168820</td>\n",
       "    </tr>\n",
       "    <tr>\n",
       "      <th>SEVERITYCODE</th>\n",
       "      <td>0.209163</td>\n",
       "      <td>1.000000</td>\n",
       "      <td>0.460696</td>\n",
       "      <td>0.700391</td>\n",
       "      <td>0.280070</td>\n",
       "      <td>0.168462</td>\n",
       "      <td>0.176663</td>\n",
       "      <td>0.311601</td>\n",
       "      <td>0.518682</td>\n",
       "      <td>0.112097</td>\n",
       "      <td>0.250832</td>\n",
       "      <td>0.222471</td>\n",
       "      <td>0.097485</td>\n",
       "      <td>0.167778</td>\n",
       "    </tr>\n",
       "    <tr>\n",
       "      <th>COLLISIONTYPE</th>\n",
       "      <td>0.231114</td>\n",
       "      <td>0.460696</td>\n",
       "      <td>1.000000</td>\n",
       "      <td>0.233704</td>\n",
       "      <td>0.101766</td>\n",
       "      <td>0.042020</td>\n",
       "      <td>0.204633</td>\n",
       "      <td>0.378235</td>\n",
       "      <td>0.403133</td>\n",
       "      <td>0.039913</td>\n",
       "      <td>0.170047</td>\n",
       "      <td>0.141959</td>\n",
       "      <td>0.167047</td>\n",
       "      <td>0.235657</td>\n",
       "    </tr>\n",
       "    <tr>\n",
       "      <th>INJURIES</th>\n",
       "      <td>0.165353</td>\n",
       "      <td>0.700391</td>\n",
       "      <td>0.233704</td>\n",
       "      <td>1.000000</td>\n",
       "      <td>0.279368</td>\n",
       "      <td>0.067180</td>\n",
       "      <td>0.119387</td>\n",
       "      <td>0.138529</td>\n",
       "      <td>0.167160</td>\n",
       "      <td>-0.036641</td>\n",
       "      <td>0.018521</td>\n",
       "      <td>0.023051</td>\n",
       "      <td>0.059399</td>\n",
       "      <td>0.100689</td>\n",
       "    </tr>\n",
       "    <tr>\n",
       "      <th>SERIOUSINJURIES</th>\n",
       "      <td>0.034163</td>\n",
       "      <td>0.280070</td>\n",
       "      <td>0.101766</td>\n",
       "      <td>0.279368</td>\n",
       "      <td>1.000000</td>\n",
       "      <td>0.173007</td>\n",
       "      <td>0.008052</td>\n",
       "      <td>0.086668</td>\n",
       "      <td>0.053116</td>\n",
       "      <td>-0.009453</td>\n",
       "      <td>0.001953</td>\n",
       "      <td>0.016723</td>\n",
       "      <td>0.031577</td>\n",
       "      <td>0.055903</td>\n",
       "    </tr>\n",
       "    <tr>\n",
       "      <th>FATALITIES</th>\n",
       "      <td>0.008504</td>\n",
       "      <td>0.168462</td>\n",
       "      <td>0.042020</td>\n",
       "      <td>0.067180</td>\n",
       "      <td>0.173007</td>\n",
       "      <td>1.000000</td>\n",
       "      <td>-0.002087</td>\n",
       "      <td>0.045834</td>\n",
       "      <td>0.030762</td>\n",
       "      <td>-0.005765</td>\n",
       "      <td>-0.004540</td>\n",
       "      <td>0.007310</td>\n",
       "      <td>0.005112</td>\n",
       "      <td>0.031851</td>\n",
       "    </tr>\n",
       "    <tr>\n",
       "      <th>JUNCTIONTYPE</th>\n",
       "      <td>0.295614</td>\n",
       "      <td>0.176663</td>\n",
       "      <td>0.204633</td>\n",
       "      <td>0.119387</td>\n",
       "      <td>0.008052</td>\n",
       "      <td>-0.002087</td>\n",
       "      <td>1.000000</td>\n",
       "      <td>0.153773</td>\n",
       "      <td>0.115806</td>\n",
       "      <td>-0.059323</td>\n",
       "      <td>-0.011316</td>\n",
       "      <td>-0.017136</td>\n",
       "      <td>0.016764</td>\n",
       "      <td>0.040911</td>\n",
       "    </tr>\n",
       "    <tr>\n",
       "      <th>SDOT_COLCODE</th>\n",
       "      <td>0.048061</td>\n",
       "      <td>0.311601</td>\n",
       "      <td>0.378235</td>\n",
       "      <td>0.138529</td>\n",
       "      <td>0.086668</td>\n",
       "      <td>0.045834</td>\n",
       "      <td>0.153773</td>\n",
       "      <td>1.000000</td>\n",
       "      <td>0.260193</td>\n",
       "      <td>-0.023557</td>\n",
       "      <td>0.072950</td>\n",
       "      <td>0.102368</td>\n",
       "      <td>0.202097</td>\n",
       "      <td>0.187265</td>\n",
       "    </tr>\n",
       "    <tr>\n",
       "      <th>UNDERINFL</th>\n",
       "      <td>0.077182</td>\n",
       "      <td>0.518682</td>\n",
       "      <td>0.403133</td>\n",
       "      <td>0.167160</td>\n",
       "      <td>0.053116</td>\n",
       "      <td>0.030762</td>\n",
       "      <td>0.115806</td>\n",
       "      <td>0.260193</td>\n",
       "      <td>1.000000</td>\n",
       "      <td>0.273222</td>\n",
       "      <td>0.460852</td>\n",
       "      <td>0.439445</td>\n",
       "      <td>0.016853</td>\n",
       "      <td>0.031643</td>\n",
       "    </tr>\n",
       "    <tr>\n",
       "      <th>WEATHER</th>\n",
       "      <td>-0.065416</td>\n",
       "      <td>0.112097</td>\n",
       "      <td>0.039913</td>\n",
       "      <td>-0.036641</td>\n",
       "      <td>-0.009453</td>\n",
       "      <td>-0.005765</td>\n",
       "      <td>-0.059323</td>\n",
       "      <td>-0.023557</td>\n",
       "      <td>0.273222</td>\n",
       "      <td>1.000000</td>\n",
       "      <td>0.735105</td>\n",
       "      <td>0.385635</td>\n",
       "      <td>-0.016308</td>\n",
       "      <td>0.001994</td>\n",
       "    </tr>\n",
       "    <tr>\n",
       "      <th>ROADCOND</th>\n",
       "      <td>-0.025085</td>\n",
       "      <td>0.250832</td>\n",
       "      <td>0.170047</td>\n",
       "      <td>0.018521</td>\n",
       "      <td>0.001953</td>\n",
       "      <td>-0.004540</td>\n",
       "      <td>-0.011316</td>\n",
       "      <td>0.072950</td>\n",
       "      <td>0.460852</td>\n",
       "      <td>0.735105</td>\n",
       "      <td>1.000000</td>\n",
       "      <td>0.440182</td>\n",
       "      <td>-0.007420</td>\n",
       "      <td>0.014141</td>\n",
       "    </tr>\n",
       "    <tr>\n",
       "      <th>LIGHTCOND</th>\n",
       "      <td>-0.010892</td>\n",
       "      <td>0.222471</td>\n",
       "      <td>0.141959</td>\n",
       "      <td>0.023051</td>\n",
       "      <td>0.016723</td>\n",
       "      <td>0.007310</td>\n",
       "      <td>-0.017136</td>\n",
       "      <td>0.102368</td>\n",
       "      <td>0.439445</td>\n",
       "      <td>0.385635</td>\n",
       "      <td>0.440182</td>\n",
       "      <td>1.000000</td>\n",
       "      <td>-0.000402</td>\n",
       "      <td>0.016725</td>\n",
       "    </tr>\n",
       "    <tr>\n",
       "      <th>SEGLANEKEY</th>\n",
       "      <td>0.038785</td>\n",
       "      <td>0.097485</td>\n",
       "      <td>0.167047</td>\n",
       "      <td>0.059399</td>\n",
       "      <td>0.031577</td>\n",
       "      <td>0.005112</td>\n",
       "      <td>0.016764</td>\n",
       "      <td>0.202097</td>\n",
       "      <td>0.016853</td>\n",
       "      <td>-0.016308</td>\n",
       "      <td>-0.007420</td>\n",
       "      <td>-0.000402</td>\n",
       "      <td>1.000000</td>\n",
       "      <td>-0.003538</td>\n",
       "    </tr>\n",
       "    <tr>\n",
       "      <th>CROSSWALKKEY</th>\n",
       "      <td>0.168820</td>\n",
       "      <td>0.167778</td>\n",
       "      <td>0.235657</td>\n",
       "      <td>0.100689</td>\n",
       "      <td>0.055903</td>\n",
       "      <td>0.031851</td>\n",
       "      <td>0.040911</td>\n",
       "      <td>0.187265</td>\n",
       "      <td>0.031643</td>\n",
       "      <td>0.001994</td>\n",
       "      <td>0.014141</td>\n",
       "      <td>0.016725</td>\n",
       "      <td>-0.003538</td>\n",
       "      <td>1.000000</td>\n",
       "    </tr>\n",
       "  </tbody>\n",
       "</table>\n",
       "</div>"
      ],
      "text/plain": [
       "                 ADDRTYPE  SEVERITYCODE  COLLISIONTYPE  INJURIES  \\\n",
       "ADDRTYPE         1.000000      0.209163       0.231114  0.165353   \n",
       "SEVERITYCODE     0.209163      1.000000       0.460696  0.700391   \n",
       "COLLISIONTYPE    0.231114      0.460696       1.000000  0.233704   \n",
       "INJURIES         0.165353      0.700391       0.233704  1.000000   \n",
       "SERIOUSINJURIES  0.034163      0.280070       0.101766  0.279368   \n",
       "FATALITIES       0.008504      0.168462       0.042020  0.067180   \n",
       "JUNCTIONTYPE     0.295614      0.176663       0.204633  0.119387   \n",
       "SDOT_COLCODE     0.048061      0.311601       0.378235  0.138529   \n",
       "UNDERINFL        0.077182      0.518682       0.403133  0.167160   \n",
       "WEATHER         -0.065416      0.112097       0.039913 -0.036641   \n",
       "ROADCOND        -0.025085      0.250832       0.170047  0.018521   \n",
       "LIGHTCOND       -0.010892      0.222471       0.141959  0.023051   \n",
       "SEGLANEKEY       0.038785      0.097485       0.167047  0.059399   \n",
       "CROSSWALKKEY     0.168820      0.167778       0.235657  0.100689   \n",
       "\n",
       "                 SERIOUSINJURIES  FATALITIES  JUNCTIONTYPE  SDOT_COLCODE  \\\n",
       "ADDRTYPE                0.034163    0.008504      0.295614      0.048061   \n",
       "SEVERITYCODE            0.280070    0.168462      0.176663      0.311601   \n",
       "COLLISIONTYPE           0.101766    0.042020      0.204633      0.378235   \n",
       "INJURIES                0.279368    0.067180      0.119387      0.138529   \n",
       "SERIOUSINJURIES         1.000000    0.173007      0.008052      0.086668   \n",
       "FATALITIES              0.173007    1.000000     -0.002087      0.045834   \n",
       "JUNCTIONTYPE            0.008052   -0.002087      1.000000      0.153773   \n",
       "SDOT_COLCODE            0.086668    0.045834      0.153773      1.000000   \n",
       "UNDERINFL               0.053116    0.030762      0.115806      0.260193   \n",
       "WEATHER                -0.009453   -0.005765     -0.059323     -0.023557   \n",
       "ROADCOND                0.001953   -0.004540     -0.011316      0.072950   \n",
       "LIGHTCOND               0.016723    0.007310     -0.017136      0.102368   \n",
       "SEGLANEKEY              0.031577    0.005112      0.016764      0.202097   \n",
       "CROSSWALKKEY            0.055903    0.031851      0.040911      0.187265   \n",
       "\n",
       "                 UNDERINFL   WEATHER  ROADCOND  LIGHTCOND  SEGLANEKEY  \\\n",
       "ADDRTYPE          0.077182 -0.065416 -0.025085  -0.010892    0.038785   \n",
       "SEVERITYCODE      0.518682  0.112097  0.250832   0.222471    0.097485   \n",
       "COLLISIONTYPE     0.403133  0.039913  0.170047   0.141959    0.167047   \n",
       "INJURIES          0.167160 -0.036641  0.018521   0.023051    0.059399   \n",
       "SERIOUSINJURIES   0.053116 -0.009453  0.001953   0.016723    0.031577   \n",
       "FATALITIES        0.030762 -0.005765 -0.004540   0.007310    0.005112   \n",
       "JUNCTIONTYPE      0.115806 -0.059323 -0.011316  -0.017136    0.016764   \n",
       "SDOT_COLCODE      0.260193 -0.023557  0.072950   0.102368    0.202097   \n",
       "UNDERINFL         1.000000  0.273222  0.460852   0.439445    0.016853   \n",
       "WEATHER           0.273222  1.000000  0.735105   0.385635   -0.016308   \n",
       "ROADCOND          0.460852  0.735105  1.000000   0.440182   -0.007420   \n",
       "LIGHTCOND         0.439445  0.385635  0.440182   1.000000   -0.000402   \n",
       "SEGLANEKEY        0.016853 -0.016308 -0.007420  -0.000402    1.000000   \n",
       "CROSSWALKKEY      0.031643  0.001994  0.014141   0.016725   -0.003538   \n",
       "\n",
       "                 CROSSWALKKEY  \n",
       "ADDRTYPE             0.168820  \n",
       "SEVERITYCODE         0.167778  \n",
       "COLLISIONTYPE        0.235657  \n",
       "INJURIES             0.100689  \n",
       "SERIOUSINJURIES      0.055903  \n",
       "FATALITIES           0.031851  \n",
       "JUNCTIONTYPE         0.040911  \n",
       "SDOT_COLCODE         0.187265  \n",
       "UNDERINFL            0.031643  \n",
       "WEATHER              0.001994  \n",
       "ROADCOND             0.014141  \n",
       "LIGHTCOND            0.016725  \n",
       "SEGLANEKEY          -0.003538  \n",
       "CROSSWALKKEY         1.000000  "
      ]
     },
     "execution_count": 37,
     "metadata": {},
     "output_type": "execute_result"
    }
   ],
   "source": [
    "df.corr()"
   ]
  },
  {
   "cell_type": "code",
   "execution_count": 61,
   "metadata": {},
   "outputs": [
    {
     "data": {
      "text/html": [
       "<div>\n",
       "<style scoped>\n",
       "    .dataframe tbody tr th:only-of-type {\n",
       "        vertical-align: middle;\n",
       "    }\n",
       "\n",
       "    .dataframe tbody tr th {\n",
       "        vertical-align: top;\n",
       "    }\n",
       "\n",
       "    .dataframe thead th {\n",
       "        text-align: right;\n",
       "    }\n",
       "</style>\n",
       "<table border=\"1\" class=\"dataframe\">\n",
       "  <thead>\n",
       "    <tr style=\"text-align: right;\">\n",
       "      <th></th>\n",
       "      <th>ADDRTYPE</th>\n",
       "      <th>SEVERITYCODE</th>\n",
       "      <th>COLLISIONTYPE</th>\n",
       "      <th>INJURIES</th>\n",
       "      <th>SERIOUSINJURIES</th>\n",
       "      <th>FATALITIES</th>\n",
       "      <th>JUNCTIONTYPE</th>\n",
       "      <th>SDOT_COLCODE</th>\n",
       "      <th>UNDERINFL</th>\n",
       "      <th>WEATHER</th>\n",
       "      <th>ROADCOND</th>\n",
       "      <th>LIGHTCOND</th>\n",
       "      <th>SEGLANEKEY</th>\n",
       "      <th>CROSSWALKKEY</th>\n",
       "    </tr>\n",
       "  </thead>\n",
       "  <tbody>\n",
       "    <tr>\n",
       "      <th>0</th>\n",
       "      <td>1</td>\n",
       "      <td>2</td>\n",
       "      <td>6</td>\n",
       "      <td>1</td>\n",
       "      <td>0</td>\n",
       "      <td>0</td>\n",
       "      <td>1</td>\n",
       "      <td>24.0</td>\n",
       "      <td>0</td>\n",
       "      <td>0</td>\n",
       "      <td>0</td>\n",
       "      <td>0</td>\n",
       "      <td>0</td>\n",
       "      <td>0</td>\n",
       "    </tr>\n",
       "    <tr>\n",
       "      <th>1</th>\n",
       "      <td>1</td>\n",
       "      <td>2</td>\n",
       "      <td>1</td>\n",
       "      <td>2</td>\n",
       "      <td>0</td>\n",
       "      <td>0</td>\n",
       "      <td>1</td>\n",
       "      <td>11.0</td>\n",
       "      <td>0</td>\n",
       "      <td>4</td>\n",
       "      <td>1</td>\n",
       "      <td>1</td>\n",
       "      <td>0</td>\n",
       "      <td>0</td>\n",
       "    </tr>\n",
       "    <tr>\n",
       "      <th>2</th>\n",
       "      <td>0</td>\n",
       "      <td>1</td>\n",
       "      <td>4</td>\n",
       "      <td>0</td>\n",
       "      <td>0</td>\n",
       "      <td>0</td>\n",
       "      <td>0</td>\n",
       "      <td>14.0</td>\n",
       "      <td>0</td>\n",
       "      <td>0</td>\n",
       "      <td>0</td>\n",
       "      <td>0</td>\n",
       "      <td>0</td>\n",
       "      <td>0</td>\n",
       "    </tr>\n",
       "    <tr>\n",
       "      <th>3</th>\n",
       "      <td>1</td>\n",
       "      <td>1</td>\n",
       "      <td>5</td>\n",
       "      <td>0</td>\n",
       "      <td>0</td>\n",
       "      <td>0</td>\n",
       "      <td>1</td>\n",
       "      <td>11.0</td>\n",
       "      <td>0</td>\n",
       "      <td>4</td>\n",
       "      <td>1</td>\n",
       "      <td>1</td>\n",
       "      <td>0</td>\n",
       "      <td>0</td>\n",
       "    </tr>\n",
       "    <tr>\n",
       "      <th>4</th>\n",
       "      <td>0</td>\n",
       "      <td>0</td>\n",
       "      <td>-1</td>\n",
       "      <td>0</td>\n",
       "      <td>0</td>\n",
       "      <td>0</td>\n",
       "      <td>2</td>\n",
       "      <td>11.0</td>\n",
       "      <td>-1</td>\n",
       "      <td>-1</td>\n",
       "      <td>-1</td>\n",
       "      <td>-1</td>\n",
       "      <td>0</td>\n",
       "      <td>0</td>\n",
       "    </tr>\n",
       "  </tbody>\n",
       "</table>\n",
       "</div>"
      ],
      "text/plain": [
       "   ADDRTYPE  SEVERITYCODE  COLLISIONTYPE  INJURIES  SERIOUSINJURIES  \\\n",
       "0         1             2              6         1                0   \n",
       "1         1             2              1         2                0   \n",
       "2         0             1              4         0                0   \n",
       "3         1             1              5         0                0   \n",
       "4         0             0             -1         0                0   \n",
       "\n",
       "   FATALITIES  JUNCTIONTYPE  SDOT_COLCODE  UNDERINFL  WEATHER  ROADCOND  \\\n",
       "0           0             1          24.0          0        0         0   \n",
       "1           0             1          11.0          0        4         1   \n",
       "2           0             0          14.0          0        0         0   \n",
       "3           0             1          11.0          0        4         1   \n",
       "4           0             2          11.0         -1       -1        -1   \n",
       "\n",
       "   LIGHTCOND  SEGLANEKEY  CROSSWALKKEY  \n",
       "0          0           0             0  \n",
       "1          1           0             0  \n",
       "2          0           0             0  \n",
       "3          1           0             0  \n",
       "4         -1           0             0  "
      ]
     },
     "execution_count": 61,
     "metadata": {},
     "output_type": "execute_result"
    }
   ],
   "source": [
    "#df.fillna(-1, inplace=True)\n",
    "df.head()"
   ]
  },
  {
   "cell_type": "code",
   "execution_count": 31,
   "metadata": {},
   "outputs": [
    {
     "data": {
      "text/plain": [
       "Index(['ADDRTYPE', 'SEVERITYCODE', 'COLLISIONTYPE', 'INJURIES',\n",
       "       'SERIOUSINJURIES', 'FATALITIES', 'JUNCTIONTYPE', 'SDOT_COLCODE',\n",
       "       'UNDERINFL', 'WEATHER', 'ROADCOND', 'LIGHTCOND', 'SEGLANEKEY',\n",
       "       'CROSSWALKKEY'],\n",
       "      dtype='object')"
      ]
     },
     "execution_count": 31,
     "metadata": {},
     "output_type": "execute_result"
    }
   ],
   "source": [
    "df.columns\n"
   ]
  },
  {
   "cell_type": "markdown",
   "metadata": {},
   "source": [
    "### METHODOLOGY"
   ]
  },
  {
   "cell_type": "markdown",
   "metadata": {},
   "source": [
    "##### Feature Selection\n",
    "We have found the best attributes. Now its time to build a feature set."
   ]
  },
  {
   "cell_type": "code",
   "execution_count": 58,
   "metadata": {},
   "outputs": [],
   "source": [
    "Feature = ['ADDRTYPE', 'COLLISIONTYPE', 'INJURIES','SERIOUSINJURIES', 'FATALITIES', 'JUNCTIONTYPE', 'SDOT_COLCODE','UNDERINFL', 'WEATHER', 'ROADCOND', 'LIGHTCOND', 'SEGLANEKEY','CROSSWALKKEY']"
   ]
  },
  {
   "cell_type": "code",
   "execution_count": 59,
   "metadata": {},
   "outputs": [],
   "source": [
    "X=df[Feature].values"
   ]
  },
  {
   "cell_type": "code",
   "execution_count": 60,
   "metadata": {},
   "outputs": [],
   "source": [
    "y = df[\"SEVERITYCODE\"].values"
   ]
  },
  {
   "cell_type": "code",
   "execution_count": 25,
   "metadata": {},
   "outputs": [],
   "source": [
    "#standardise and normalize"
   ]
  },
  {
   "cell_type": "code",
   "execution_count": 61,
   "metadata": {},
   "outputs": [
    {
     "data": {
      "text/plain": [
       "array([[ 1.34848799,  1.76008303,  0.85530551, -0.09593709, -0.03772838,\n",
       "         0.31350224,  1.45372016,  0.1919544 , -0.61182645, -0.33145864,\n",
       "        -0.38435272, -0.08047221, -0.13409965],\n",
       "       [ 1.34848799, -0.40598776,  2.22126817, -0.09593709, -0.03772838,\n",
       "         0.31350224, -0.32637214,  0.1919544 ,  0.68181855,  0.84080816,\n",
       "         0.50063925, -0.08047221, -0.13409965],\n",
       "       [-0.62219067,  0.89365471, -0.51065715, -0.09593709, -0.03772838,\n",
       "        -0.68071292,  0.08441839,  0.1919544 , -0.61182645, -0.33145864,\n",
       "        -0.38435272, -0.08047221, -0.13409965],\n",
       "       [ 1.34848799,  1.32686887, -0.51065715, -0.09593709, -0.03772838,\n",
       "         0.31350224, -0.32637214,  0.1919544 ,  0.68181855,  0.84080816,\n",
       "         0.50063925, -0.08047221, -0.13409965],\n",
       "       [-0.62219067, -1.27241608, -0.51065715, -0.09593709, -0.03772838,\n",
       "         1.30771739, -0.32637214, -2.3286974 , -0.9352377 , -1.50372544,\n",
       "        -1.26934469, -0.08047221, -0.13409965]])"
      ]
     },
     "execution_count": 61,
     "metadata": {},
     "output_type": "execute_result"
    }
   ],
   "source": [
    "from sklearn import preprocessing\n",
    "X= preprocessing.StandardScaler().fit(X).transform(X.astype(float))\n",
    "X[0:5]"
   ]
  },
  {
   "cell_type": "markdown",
   "metadata": {},
   "source": [
    "#### Train Test Split\n",
    "Out of Sample accuracy is an important measure of how well a prediction is done. It is the percentage of correct predictions that the model makes on data that that the model has not been trained on. A model with high Out of Sample accuracy is a better than a model with high training accuracy.\n",
    "\n",
    "Train/test split of dataset can help in improving the Out of sample accuracy. We train with the training set and test with the test set.\n",
    "\n",
    "This will provide a more accurate evaluation on out-of-sample accuracy because the testing dataset is not part of the dataset that have been used to train the data. It is more realistic for real world problems."
   ]
  },
  {
   "cell_type": "code",
   "execution_count": 62,
   "metadata": {},
   "outputs": [
    {
     "name": "stdout",
     "output_type": "stream",
     "text": [
      "Train set: (177012, 13) (177012,)\n",
      "Test set: (44254, 13) (44254,)\n"
     ]
    }
   ],
   "source": [
    "from sklearn.model_selection import train_test_split\n",
    "X_train, X_test, y_train, y_test = train_test_split( X, y, test_size=0.2, random_state=4)\n",
    "print ('Train set:', X_train.shape,  y_train.shape)\n",
    "print ('Test set:', X_test.shape,  y_test.shape)"
   ]
  },
  {
   "cell_type": "code",
   "execution_count": 63,
   "metadata": {},
   "outputs": [
    {
     "data": {
      "text/plain": [
       "Text(0.5, 0, 'severitycode')"
      ]
     },
     "execution_count": 63,
     "metadata": {},
     "output_type": "execute_result"
    },
    {
     "data": {
      "image/png": "[encoded data removed]",
      "text/plain": [
       "<Figure size 432x288 with 1 Axes>"
      ]
     },
     "metadata": {
      "needs_background": "light"
     },
     "output_type": "display_data"
    }
   ],
   "source": [
    "pd.DataFrame(list(y_train))[0].value_counts().plot(kind='bar')\n",
    "plt.xlabel(\"severitycode\")"
   ]
  },
  {
   "cell_type": "code",
   "execution_count": null,
   "metadata": {},
   "outputs": [],
   "source": []
  },
  {
   "cell_type": "code",
   "execution_count": 54,
   "metadata": {},
   "outputs": [
    {
     "name": "stdout",
     "output_type": "stream",
     "text": [
      "Collecting imblearn\n",
      "  Using cached https://files.pythonhosted.org/packages/81/a7/4179e6ebfd654bd0eac0b9c06125b8b4c96a9d0a8ff9e9507eb2a26d2d7e/imblearn-0.0-py2.py3-none-any.whl\n",
      "Collecting imbalanced-learn (from imblearn)\n",
      "  Using cached https://files.pythonhosted.org/packages/c8/81/8db4d87b03b998fda7c6f835d807c9ae4e3b141f978597b8d7f31600be15/imbalanced_learn-0.7.0-py3-none-any.whl\n",
      "Collecting scikit-learn>=0.23 (from imbalanced-learn->imblearn)\n",
      "  Downloading https://files.pythonhosted.org/packages/5c/a1/273def87037a7fb010512bbc5901c31cfddfca8080bc63b42b26e3cc55b3/scikit_learn-0.23.2-cp36-cp36m-manylinux1_x86_64.whl (6.8MB)\n",
      "\u001b[K    100% |████████████████████████████████| 6.8MB 28kB/s ta 0:00:018    55% |█████████████████▊              | 3.8MB 26kB/s eta 0:01:55\n",
      "\u001b[?25hCollecting numpy>=1.13.3 (from imbalanced-learn->imblearn)\n",
      "  Using cached https://files.pythonhosted.org/packages/22/e7/4b2bdddb99f5f631d8c1de259897c2b7d65dcfcc1e0a6fd17a7f62923500/numpy-1.19.1-cp36-cp36m-manylinux1_x86_64.whl\n",
      "Collecting joblib>=0.11 (from imbalanced-learn->imblearn)\n",
      "  Using cached https://files.pythonhosted.org/packages/51/dd/0e015051b4a27ec5a58b02ab774059f3289a94b0906f880a3f9507e74f38/joblib-0.16.0-py3-none-any.whl\n",
      "Collecting scipy>=0.19.1 (from imbalanced-learn->imblearn)\n",
      "  Using cached https://files.pythonhosted.org/packages/2b/a8/f4c66eb529bb252d50e83dbf2909c6502e2f857550f22571ed8556f62d95/scipy-1.5.2-cp36-cp36m-manylinux1_x86_64.whl\n",
      "Collecting threadpoolctl>=2.0.0 (from scikit-learn>=0.23->imbalanced-learn->imblearn)\n",
      "  Downloading https://files.pythonhosted.org/packages/f7/12/ec3f2e203afa394a149911729357aa48affc59c20e2c1c8297a60f33f133/threadpoolctl-2.1.0-py3-none-any.whl\n",
      "Installing collected packages: threadpoolctl, numpy, joblib, scipy, scikit-learn, imbalanced-learn, imblearn\n",
      "Successfully installed imbalanced-learn-0.7.0 imblearn-0.0 joblib-0.16.0 numpy-1.19.1 scikit-learn-0.23.2 scipy-1.5.2 threadpoolctl-2.1.0\n"
     ]
    }
   ],
   "source": [
    "!pip3 install imblearn"
   ]
  },
  {
   "cell_type": "markdown",
   "metadata": {},
   "source": [
    "We have found the best attributes to build our model. We have standardized and normalized the data. Then the dataset is splitted into training and testing set (80:20). However, the data set is highly imbalanced. We need to balance it. I've used SMOTE library for balancing the imbalanced training set. It is a method of over-sampling. It generates data in a way that resembles the underlying distribution of the real data. "
   ]
  },
  {
   "cell_type": "code",
   "execution_count": 35,
   "metadata": {},
   "outputs": [],
   "source": [
    "# for balancing training set\n",
    "from imblearn.over_sampling import SMOTE\n",
    "smt = SMOTE(random_state=4)\n",
    "X_train, y_train = smt.fit_sample(X_train, y_train)"
   ]
  },
  {
   "cell_type": "code",
   "execution_count": 38,
   "metadata": {},
   "outputs": [
    {
     "data": {
      "text/plain": [
       "Text(0.5, 0, 'severitycode')"
      ]
     },
     "execution_count": 38,
     "metadata": {},
     "output_type": "execute_result"
    },
    {
     "data": {
      "image/png": "[encoded data removed]",
      "text/plain": [
       "<Figure size 432x288 with 1 Axes>"
      ]
     },
     "metadata": {
      "needs_background": "light"
     },
     "output_type": "display_data"
    }
   ],
   "source": [
    "pd.DataFrame(list(y_train))[0].value_counts().plot(kind='bar')\n",
    "plt.xlabel(\"severitycode\")"
   ]
  },
  {
   "cell_type": "code",
   "execution_count": null,
   "metadata": {},
   "outputs": [],
   "source": [
    "!pip3 install -U scikit-learn"
   ]
  },
  {
   "cell_type": "markdown",
   "metadata": {},
   "source": [
    "### K-Nearest Neighbor.\n",
    "\n",
    "Build a KNN model using the train set and test and evaluate it using test set. we will find the best k."
   ]
  },
  {
   "cell_type": "code",
   "execution_count": 26,
   "metadata": {},
   "outputs": [
    {
     "data": {
      "text/plain": [
       "KNeighborsClassifier(n_neighbors=4)"
      ]
     },
     "execution_count": 26,
     "metadata": {},
     "output_type": "execute_result"
    }
   ],
   "source": [
    "from sklearn.neighbors import KNeighborsClassifier\n",
    "\n",
    "k = 4\n",
    "#Train Model and Predict  \n",
    "neigh = KNeighborsClassifier(n_neighbors = k).fit(X_train,y_train)\n",
    "neigh"
   ]
  },
  {
   "cell_type": "code",
   "execution_count": 33,
   "metadata": {},
   "outputs": [],
   "source": [
    "#pickling the model"
   ]
  },
  {
   "cell_type": "code",
   "execution_count": 28,
   "metadata": {},
   "outputs": [],
   "source": [
    "import pickle\n",
    "filename = 'knn_model.sav'\n",
    "pickle.dump(neigh, open(filename, 'wb'))"
   ]
  },
  {
   "cell_type": "code",
   "execution_count": null,
   "metadata": {},
   "outputs": [],
   "source": [
    "#loading pickled model\n",
    "#neigh = pickle.load(open('knn_model.sav', 'rb'))"
   ]
  },
  {
   "cell_type": "code",
   "execution_count": 29,
   "metadata": {},
   "outputs": [
    {
     "data": {
      "text/plain": [
       "array([1, 2, 1, 1, 1])"
      ]
     },
     "execution_count": 29,
     "metadata": {},
     "output_type": "execute_result"
    }
   ],
   "source": [
    "yhat = neigh.predict(X_test)\n",
    "yhat[0:5]"
   ]
  },
  {
   "cell_type": "code",
   "execution_count": 195,
   "metadata": {},
   "outputs": [
    {
     "data": {
      "text/plain": [
       "array([1, 2, 1, 1, 1])"
      ]
     },
     "execution_count": 195,
     "metadata": {},
     "output_type": "execute_result"
    }
   ],
   "source": [
    "print(yhat[0:5])\n",
    "print(y_test[0:5])"
   ]
  },
  {
   "cell_type": "code",
   "execution_count": 31,
   "metadata": {},
   "outputs": [
    {
     "name": "stdout",
     "output_type": "stream",
     "text": [
      "Test set Accuracy:  0.9818773444208433\n"
     ]
    }
   ],
   "source": [
    "\n",
    "\n",
    "from sklearn import metrics\n",
    "#print(\"Train set Accuracy: \", metrics.accuracy_score(y_train, neigh.predict(X_train)))\n",
    "print(\"Test set Accuracy: \", metrics.accuracy_score(y_test, yhat))\n",
    "\n"
   ]
  },
  {
   "cell_type": "code",
   "execution_count": 197,
   "metadata": {},
   "outputs": [
    {
     "data": {
      "text/plain": [
       "array([0.97430741, 0.9814706 , 0.9807927 , 0.9815158 , 0.98138021,\n",
       "       0.98104126, 0.9807927 , 0.98058933, 0.98061192])"
      ]
     },
     "execution_count": 197,
     "metadata": {},
     "output_type": "execute_result"
    }
   ],
   "source": [
    "Ks = 10\n",
    "mean_acc = np.zeros((Ks-1))\n",
    "std_acc = np.zeros((Ks-1))\n",
    "ConfustionMx = [];\n",
    "for n in range(1,Ks):\n",
    "    \n",
    "    #Train Model and Predict  \n",
    "    neigh = KNeighborsClassifier(n_neighbors = n).fit(X_train,y_train)\n",
    "    yhat=neigh.predict(X_test)\n",
    "    mean_acc[n-1] = metrics.accuracy_score(y_test, yhat)\n",
    "\n",
    "    \n",
    "    std_acc[n-1]=np.std(yhat==y_test)/np.sqrt(yhat.shape[0])\n",
    "\n",
    "mean_acc"
   ]
  },
  {
   "cell_type": "code",
   "execution_count": 198,
   "metadata": {},
   "outputs": [
    {
     "name": "stdout",
     "output_type": "stream",
     "text": [
      "The best accuracy was with 0.9815157951823564 with k= 4\n"
     ]
    }
   ],
   "source": [
    "print( \"The best accuracy was with\", mean_acc.max(), \"with k=\", mean_acc.argmax()+1) "
   ]
  },
  {
   "cell_type": "markdown",
   "metadata": {},
   "source": [
    "### Support Vector Machine\n",
    "\n",
    "Build a SVM model using the train set and test and evaluate it using test set."
   ]
  },
  {
   "cell_type": "code",
   "execution_count": 49,
   "metadata": {},
   "outputs": [],
   "source": [
    "from sklearn import svm\n",
    "clf = svm.SVC().fit(X_train, y_train)"
   ]
  },
  {
   "cell_type": "code",
   "execution_count": 50,
   "metadata": {},
   "outputs": [],
   "source": [
    "#pickling the model\n",
    "import pickle\n",
    "filename = 'svm_model.sav'\n",
    "pickle.dump(clf, open(filename, 'wb'))"
   ]
  },
  {
   "cell_type": "code",
   "execution_count": null,
   "metadata": {},
   "outputs": [],
   "source": [
    "#loading pickled model\n",
    "#clf = pickle.load(open('svm_model.sav', 'rb'))"
   ]
  },
  {
   "cell_type": "code",
   "execution_count": 51,
   "metadata": {},
   "outputs": [
    {
     "name": "stdout",
     "output_type": "stream",
     "text": [
      "[1 2 1 1 1 1 1 2 1 2 0 1 3 2 1]\n",
      "[1 2 1 1 1 1 1 2 1 2 0 1 3 2 1]\n"
     ]
    }
   ],
   "source": [
    "yhat_svm = clf.predict(X_test)\n",
    "print(yhat_svm[0:15])\n",
    "print(y_test[0:15])"
   ]
  },
  {
   "cell_type": "code",
   "execution_count": 52,
   "metadata": {},
   "outputs": [
    {
     "name": "stdout",
     "output_type": "stream",
     "text": [
      "Test set Accuracy:  0.9823518777963574\n"
     ]
    }
   ],
   "source": [
    "from sklearn import metrics\n",
    "#print(\"Train set Accuracy: \", metrics.accuracy_score(y_train, clf.predict(X_train)))\n",
    "print(\"Test set Accuracy: \", metrics.accuracy_score(y_test, yhat_svm))\n",
    "\n"
   ]
  },
  {
   "cell_type": "markdown",
   "metadata": {},
   "source": [
    "### LOGISTIC REGRESSION\n",
    "\n",
    "Build a Logistic Regression model using the train set and test and evaluate it using test set.\n"
   ]
  },
  {
   "cell_type": "code",
   "execution_count": 82,
   "metadata": {},
   "outputs": [],
   "source": [
    "from sklearn.linear_model import LogisticRegression\n",
    "from sklearn.metrics import confusion_matrix\n",
    "LR = LogisticRegression(C=0.1, solver='liblinear').fit(X_train,y_train)"
   ]
  },
  {
   "cell_type": "code",
   "execution_count": 85,
   "metadata": {},
   "outputs": [],
   "source": [
    "#pickling the model\n",
    "import pickle\n",
    "filename = 'lr_model.sav'\n",
    "pickle.dump(LR, open(filename, 'wb'))"
   ]
  },
  {
   "cell_type": "code",
   "execution_count": 83,
   "metadata": {},
   "outputs": [
    {
     "name": "stdout",
     "output_type": "stream",
     "text": [
      "[1 2 1 1 1 1 1 2 1 2]\n",
      "[1 2 1 1 1 1 1 2 1 2]\n"
     ]
    }
   ],
   "source": [
    "yhat_lr = LR.predict(X_test)\n",
    "print(yhat_lr[0:10])\n",
    "print(y_test[0:10])"
   ]
  },
  {
   "cell_type": "code",
   "execution_count": 84,
   "metadata": {},
   "outputs": [
    {
     "name": "stdout",
     "output_type": "stream",
     "text": [
      "Test set Accuracy:  0.9831653635829529\n"
     ]
    }
   ],
   "source": [
    "\n",
    "\n",
    "from sklearn import metrics\n",
    "#print(\"Train set Accuracy: \", metrics.accuracy_score(y_train, LR.predict(X_train)))\n",
    "print(\"Test set Accuracy: \", metrics.accuracy_score(y_test, yhat_lr))\n",
    "\n"
   ]
  },
  {
   "cell_type": "markdown",
   "metadata": {},
   "source": [
    "## Model Evaluation\n",
    "\n",
    "We have build 3 models and are evaluating the model using the test set. The evaluation metrics used are \n",
    " - F1-score \n",
    " - Precision\n",
    " - Recall \n",
    "\n",
    "Then compare the values for each model."
   ]
  },
  {
   "cell_type": "code",
   "execution_count": null,
   "metadata": {},
   "outputs": [],
   "source": []
  },
  {
   "cell_type": "code",
   "execution_count": 102,
   "metadata": {},
   "outputs": [
    {
     "name": "stdout",
     "output_type": "stream",
     "text": [
      "F1-score of knn model :  0.9824\n",
      "Precision of knn model :  0.9843\n",
      "Recall of knn model : 0.9819\n"
     ]
    }
   ],
   "source": [
    "#KNN model evaluation\n",
    "\n",
    "f1_score_k=round(f1_score(y_test, yhat, average='weighted'),4)\n",
    "prec_k = round(precision_score(y_test, yhat, average='weighted'),4)\n",
    "rec_k = round(recall_score(y_test, yhat, average='weighted'),4)\n",
    "\n",
    "print(\"F1-score of knn model : \",f1_score_k)\n",
    "print(\"Precision of knn model : \",prec_k)\n",
    "print(\"Recall of knn model :\", rec_k)"
   ]
  },
  {
   "cell_type": "code",
   "execution_count": 103,
   "metadata": {},
   "outputs": [
    {
     "name": "stdout",
     "output_type": "stream",
     "text": [
      "F1-score of svm model:  0.9829\n",
      "Precision of svm model :  0.9848\n",
      "Recall of svm model : 0.9824\n"
     ]
    }
   ],
   "source": [
    "#SVM model evaluation\n",
    "\n",
    "f1_score_svm = round(f1_score(y_test, yhat_svm, average='weighted'),4)\n",
    "prec_svm = round(precision_score(y_test, yhat_svm, average='weighted'),4)\n",
    "rec_svm = round(recall_score(y_test, yhat_svm, average='weighted'),4)\n",
    "\n",
    "print(\"F1-score of svm model: \",f1_score_svm)\n",
    "print(\"Precision of svm model : \",prec_svm)\n",
    "print(\"Recall of svm model :\", rec_svm)"
   ]
  },
  {
   "cell_type": "code",
   "execution_count": 104,
   "metadata": {},
   "outputs": [
    {
     "name": "stdout",
     "output_type": "stream",
     "text": [
      "F1-score of LR model:  0.9837\n",
      "Precision of LR model :  0.9856\n",
      "Recall of LR model : 0.9832\n"
     ]
    }
   ],
   "source": [
    "#LR model evaluation\n",
    "yhat_lr_prob = LR.predict_proba(X_test)\n",
    "\n",
    "logloss_lr=round(log_loss(y_test, yhat_lr_prob),2)\n",
    "f1_score_lr= round(f1_score(y_test, yhat_lr, average='weighted'),4)\n",
    "prec_lr = round(precision_score(y_test, yhat_lr, average='weighted'),4)\n",
    "rec_lr = round(recall_score(y_test, yhat_lr, average='weighted'),4)\n",
    "\n",
    "print(\"F1-score of LR model: \",f1_score_lr)\n",
    "print(\"Precision of LR model : \",prec_lr)\n",
    "print(\"Recall of LR model :\", rec_lr)"
   ]
  },
  {
   "cell_type": "markdown",
   "metadata": {},
   "source": [
    "## RESULT"
   ]
  },
  {
   "cell_type": "markdown",
   "metadata": {},
   "source": [
    "The accuracy of the built models using different evaluation metrics are:\n"
   ]
  },
  {
   "cell_type": "code",
   "execution_count": 109,
   "metadata": {},
   "outputs": [
    {
     "data": {
      "text/html": [
       "<div>\n",
       "<style scoped>\n",
       "    .dataframe tbody tr th:only-of-type {\n",
       "        vertical-align: middle;\n",
       "    }\n",
       "\n",
       "    .dataframe tbody tr th {\n",
       "        vertical-align: top;\n",
       "    }\n",
       "\n",
       "    .dataframe thead th {\n",
       "        text-align: right;\n",
       "    }\n",
       "</style>\n",
       "<table border=\"1\" class=\"dataframe\">\n",
       "  <thead>\n",
       "    <tr style=\"text-align: right;\">\n",
       "      <th></th>\n",
       "      <th>Algorithm</th>\n",
       "      <th>F1-score</th>\n",
       "      <th>Precision</th>\n",
       "      <th>Recall</th>\n",
       "    </tr>\n",
       "  </thead>\n",
       "  <tbody>\n",
       "    <tr>\n",
       "      <th>0</th>\n",
       "      <td>KNN</td>\n",
       "      <td>0.9824</td>\n",
       "      <td>0.9843</td>\n",
       "      <td>0.9819</td>\n",
       "    </tr>\n",
       "    <tr>\n",
       "      <th>1</th>\n",
       "      <td>SVM</td>\n",
       "      <td>0.9829</td>\n",
       "      <td>0.9848</td>\n",
       "      <td>0.9824</td>\n",
       "    </tr>\n",
       "    <tr>\n",
       "      <th>2</th>\n",
       "      <td>LogisticRegression</td>\n",
       "      <td>0.9837</td>\n",
       "      <td>0.9856</td>\n",
       "      <td>0.9832</td>\n",
       "    </tr>\n",
       "  </tbody>\n",
       "</table>\n",
       "</div>"
      ],
      "text/plain": [
       "            Algorithm  F1-score  Precision  Recall\n",
       "0                 KNN    0.9824     0.9843  0.9819\n",
       "1                 SVM    0.9829     0.9848  0.9824\n",
       "2  LogisticRegression    0.9837     0.9856  0.9832"
      ]
     },
     "execution_count": 109,
     "metadata": {},
     "output_type": "execute_result"
    }
   ],
   "source": [
    "import matplotlib.pyplot as plt\n",
    "from sklearn.metrics import plot_confusion_matrix\n",
    "Algorithm=['KNN','SVM','LogisticRegression']\n",
    "F1_score = [f1_score_k,f1_score_svm,f1_score_lr]\n",
    "PRECISION = [prec_k,prec_svm,prec_lr]\n",
    "RECALL = [rec_k,rec_svm,rec_lr]\n",
    "\n",
    "result={'Algorithm': Algorithm, 'F1-score': F1_score, 'Precision' : PRECISION, 'Recall' : RECALL}\n",
    "report=pd.DataFrame(data=result)\n",
    "report\n",
    "\n"
   ]
  },
  {
   "cell_type": "markdown",
   "metadata": {},
   "source": [
    "###### svm model confusion matrix"
   ]
  },
  {
   "cell_type": "code",
   "execution_count": 112,
   "metadata": {},
   "outputs": [
    {
     "data": {
      "text/plain": [
       "<sklearn.metrics._plot.confusion_matrix.ConfusionMatrixDisplay at 0x7f3e844e2e10>"
      ]
     },
     "execution_count": 112,
     "metadata": {},
     "output_type": "execute_result"
    },
    {
     "data": {
      "image/png": "[encoded data removed]",
      "text/plain": [
       "<Figure size 432x288 with 2 Axes>"
      ]
     },
     "metadata": {
      "needs_background": "light"
     },
     "output_type": "display_data"
    }
   ],
   "source": [
    "plot_confusion_matrix(clf, X_test, y_test,cmap='Blues') \n"
   ]
  },
  {
   "cell_type": "markdown",
   "metadata": {},
   "source": [
    "#### KNN model confusion matrix"
   ]
  },
  {
   "cell_type": "code",
   "execution_count": 115,
   "metadata": {},
   "outputs": [
    {
     "data": {
      "text/plain": [
       "<sklearn.metrics._plot.confusion_matrix.ConfusionMatrixDisplay at 0x7f3eb054df60>"
      ]
     },
     "execution_count": 115,
     "metadata": {},
     "output_type": "execute_result"
    },
    {
     "data": {
      "image/png": "[encoded data removed]",
      "text/plain": [
       "<Figure size 432x288 with 2 Axes>"
      ]
     },
     "metadata": {
      "needs_background": "light"
     },
     "output_type": "display_data"
    }
   ],
   "source": [
    "plot_confusion_matrix(neigh, X_test, y_test,cmap='Reds')"
   ]
  },
  {
   "cell_type": "markdown",
   "metadata": {},
   "source": [
    "#### LR model confusion matrix"
   ]
  },
  {
   "cell_type": "code",
   "execution_count": 117,
   "metadata": {},
   "outputs": [
    {
     "data": {
      "text/plain": [
       "<sklearn.metrics._plot.confusion_matrix.ConfusionMatrixDisplay at 0x7f3e8430f160>"
      ]
     },
     "execution_count": 117,
     "metadata": {},
     "output_type": "execute_result"
    },
    {
     "data": {
      "image/png": "[encoded data removed]",
      "text/plain": [
       "<Figure size 432x288 with 2 Axes>"
      ]
     },
     "metadata": {
      "needs_background": "light"
     },
     "output_type": "display_data"
    }
   ],
   "source": [
    "plot_confusion_matrix(LR, X_test, y_test,cmap='Purples')"
   ]
  },
  {
   "cell_type": "markdown",
   "metadata": {},
   "source": [
    "## DISCUSSION\n",
    "\n",
    "The result shows that out of the 3 models we see that logistic regression model gives a more better f1-score, Precision and Recall as compared to the other 2 models. Also the KNN and SVM  model also gives a good result.  From the confusion matrix we can see that Lr and KNN model wrongly predicts 10 samples as label 2 instead of 3, where as in SVM it is only 5 . The misclassification is less in SVM as compared to KNN for true label 2. Misclassification is more in KNN considering all the labels."
   ]
  },
  {
   "cell_type": "markdown",
   "metadata": {},
   "source": [
    "## CONCLUSION"
   ]
  },
  {
   "cell_type": "markdown",
   "metadata": {},
   "source": [
    "We have developed a road accident severity prediction model using collision dataset provided by Seattle Department of Transportation. Although the dataset contains 40 attribute , we've considered only 11 best attributes, and the target as severity code. It can be infered from the analysis that the consumption of alcohol, drugs, the location, the weather  have an impact on accidents occured. The model can be used for predicting the possibility of accident, and alerting the public, which will help them in reducing the severity."
   ]
  },
  {
   "cell_type": "code",
   "execution_count": null,
   "metadata": {},
   "outputs": [],
   "source": []
  }
 ],
 "metadata": {
  "kernelspec": {
   "display_name": "Python 3",
   "language": "python",
   "name": "python3"
  },
  "language_info": {
   "codemirror_mode": {
    "name": "ipython",
    "version": 3
   },
   "file_extension": ".py",
   "mimetype": "text/x-python",
   "name": "python",
   "nbconvert_exporter": "python",
   "pygments_lexer": "ipython3",
   "version": "3.6.9"
  }
 },
 "nbformat": 4,
 "nbformat_minor": 4
}
